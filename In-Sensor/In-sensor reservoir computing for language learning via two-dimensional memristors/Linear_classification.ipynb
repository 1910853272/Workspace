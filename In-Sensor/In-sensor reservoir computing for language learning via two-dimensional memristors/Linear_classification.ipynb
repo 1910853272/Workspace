{
 "cells": [
  {
   "cell_type": "markdown",
   "metadata": {},
   "source": [
    "# In-sensor reservoir computing for language learning via two-dimensional memristors\n",
    "单层感知器、支持向量机和逻辑回归等监督学习模型用于读出层"
   ]
  },
  {
   "cell_type": "code",
   "execution_count": 1,
   "metadata": {
    "scrolled": true
   },
   "source": [
    "import pandas as pd\n",
    "import numpy as np\n",
    "from IPython.display import display\n",
    "\n",
    "train_data = pd.read_csv(\"./train_data_01.csv\")\n",
    "test_data = pd.read_csv(\"./test_data_01.csv\")"
   ],
   "outputs": []
  },
  {
   "cell_type": "code",
   "execution_count": 2,
   "metadata": {},
   "source": [
    "from sklearn.utils import shuffle\n",
    "\n",
    "train_data = shuffle(train_data)\n",
    "test_data = shuffle(test_data)"
   ],
   "outputs": []
  },
  {
   "cell_type": "code",
   "execution_count": 3,
   "metadata": {},
   "source": [
    "X_train, y_train = train_data.iloc[:,1:6], train_data.loc[:,\"LETTER\"]\n",
    "X_test, y_test = test_data.iloc[:,1:6], test_data.loc[:,\"LETTER\"]"
   ],
   "outputs": []
  },
  {
   "cell_type": "markdown",
   "metadata": {},
   "source": [
    "## Single layer perceptron"
   ]
  },
  {
   "cell_type": "code",
   "execution_count": 4,
   "metadata": {},
   "source": [
    "import tensorflow as tf\n",
    "\n",
    "# 创建一个顺序模型\n",
    "model = tf.keras.models.Sequential([\n",
    "    # 添加一个全连接层，包含 5 个神经元，激活函数为 softmax，输入形状为 (5,)\n",
    "    tf.keras.layers.Dense(5, activation='softmax', input_shape=(5,))\n",
    "])\n",
    "\n",
    "# 编译模型\n",
    "model.compile(optimizer=tf.keras.optimizers.Adam(0.001),  # 使用 Adam 优化器，学习率为 0.001\n",
    "              loss='sparse_categorical_crossentropy',  # 使用稀疏类别交叉熵作为损失函数\n",
    "              metrics=['accuracy'])  # 使用准确率作为评估指标"
   ],
   "outputs": []
  },
  {
   "cell_type": "code",
   "execution_count": 5,
   "metadata": {
    "scrolled": true
   },
   "source": [
    "# 训练模型\n",
    "model.fit(X_train, y_train, \n",
    "          epochs=1000,  # 训练的迭代次数为 1000\n",
    "          batch_size=2**4,  # 批次大小为 2 的 4 次方，即 16\n",
    "          validation_data=(X_test, y_test))  # 使用验证数据集 (X_test, y_test) 进行评估"
   ],
   "outputs": []
  },
  {
   "cell_type": "code",
   "execution_count": 6,
   "metadata": {},
   "source": [
    "# 评估模型在测试集上的表现，并打印测试得分\n",
    "# model.evaluate 返回 [损失, 准确率]，此处取 [1] 即准确率\n",
    "print(\"Test score: {:.2f}\".format(model.evaluate(X_test, y_test)[1]))"
   ],
   "outputs": []
  },
  {
   "cell_type": "markdown",
   "metadata": {},
   "source": [
    "## Logistic Regression"
   ]
  },
  {
   "cell_type": "code",
   "execution_count": 7,
   "metadata": {},
   "source": [
    "from sklearn.pipeline import Pipeline\n",
    "from sklearn.pipeline import make_pipeline\n",
    "from sklearn.linear_model import LogisticRegression\n",
    "\n",
    "# 创建一个流水线，包含逻辑回归模型\n",
    "# 逻辑回归使用 elasticnet 惩罚项，使用 saga 求解器，最大迭代次数为 300\n",
    "pipe = make_pipeline(LogisticRegression(penalty=\"elasticnet\", solver=\"saga\", max_iter=300))\n",
    "\n",
    "# 定义参数网格，用于超参数调优\n",
    "# 'logisticregression__C' 表示逻辑回归模型的正则化强度参数的不同取值\n",
    "# 'logisticregression__l1_ratio' 表示 L1 惩罚项和 L2 惩罚项的比率，取值范围为 0 到 1\n",
    "param_grid = {\n",
    "    'logisticregression__C': [0.01, 0.1, 1, 10, 100],\n",
    "    'logisticregression__l1_ratio': [0, 0.1, 0.2, 0.3, 0.4, 0.5, 0.6, 0.7, 0.8, 0.9, 1.0]\n",
    "}"
   ],
   "outputs": []
  },
  {
   "cell_type": "code",
   "execution_count": 8,
   "metadata": {},
   "source": [
    "from sklearn.model_selection import GridSearchCV\n",
    "\n",
    "# 使用网格搜索进行超参数调优\n",
    "# 创建 GridSearchCV 对象，传入流水线和参数网格\n",
    "# cv=5 表示使用 5 折交叉验证，n_jobs=-1 表示使用所有可用 CPU 核心进行并行计算\n",
    "grid = GridSearchCV(pipe, param_grid, cv=5, n_jobs=-1)\n",
    "\n",
    "# 使用训练数据拟合模型，以找到最佳参数组合\n",
    "grid.fit(X_train, y_train)"
   ],
   "outputs": []
  },
  {
   "cell_type": "code",
   "execution_count": 9,
   "metadata": {},
   "source": [
    "# 打印网格搜索得到的最佳模型\n",
    "print(\"Best:\\n\", grid.best_estimator_)"
   ],
   "outputs": []
  },
  {
   "cell_type": "code",
   "metadata": {
    "ExecuteTime": {
     "end_time": "2024-10-29T11:24:33.731632Z",
     "start_time": "2024-10-29T11:24:33.663797Z"
    }
   },
   "source": [
    "# 打印训练集上的得分（准确率）\n",
    "print(\"Train score: {:.2f}\".format(grid.score(X_train, y_train)))\n",
    "\n",
    "# 打印测试集上的得分（准确率）\n",
    "print(\"Test score: {:.2f}\".format(grid.score(X_test, y_test)))"
   ],
   "execution_count": 1,
   "outputs": []
  },
  {
   "cell_type": "code",
   "execution_count": 11,
   "metadata": {},
   "source": [
    "# 打印网格搜索期间交叉验证得到的最佳平均得分\n",
    "print(grid.best_score_)"
   ],
   "outputs": []
  },
  {
   "cell_type": "code",
   "execution_count": 12,
   "metadata": {},
   "source": [
    "# 将网格搜索的交叉验证结果转换为 DataFrame\n",
    "results = pd.DataFrame(grid.cv_results_)\n",
    "\n",
    "# 转置结果 DataFrame 并显示（为了更方便查看每个参数组合的评估结果）\n",
    "display(results.T)"
   ],
   "outputs": []
  },
  {
   "cell_type": "markdown",
   "metadata": {},
   "source": [
    "## Linear SVM "
   ]
  },
  {
   "cell_type": "code",
   "execution_count": 13,
   "metadata": {},
   "source": [
    "from sklearn.pipeline import Pipeline\n",
    "from sklearn.pipeline import make_pipeline\n",
    "from sklearn.svm import SVC\n",
    "\n",
    "# 定义超参数网格，用于 SVM 模型的超参数调优\n",
    "param_grid = [\n",
    "    # 第一组参数配置，使用线性核函数\n",
    "    {'kernel': ['linear'],\n",
    "     'C': [0.01, 0.1, 1, 10]},  # 正则化参数 C 的不同取值\n",
    "\n",
    "    # 第二组参数配置，使用多项式核函数\n",
    "    {'kernel': ['poly'],\n",
    "     'C': [0.01, 0.1, 1, 10],  # 正则化参数 C 的不同取值\n",
    "     'degree': [2, 3, 4]}  # 多项式核的度数\n",
    "]"
   ],
   "outputs": []
  },
  {
   "cell_type": "code",
   "execution_count": 14,
   "metadata": {},
   "source": [
    "from sklearn.model_selection import GridSearchCV\n",
    "\n",
    "# 使用网格搜索进行超参数调优\n",
    "# 创建 GridSearchCV 对象，传入 SVM 模型（SVC()）和参数网格（param_grid）\n",
    "# cv=5 表示使用 5 折交叉验证，n_jobs=-1 表示使用所有可用 CPU 核心进行并行计算\n",
    "grid = GridSearchCV(SVC(), param_grid, cv=5, n_jobs=-1)\n",
    "\n",
    "# 使用训练数据拟合模型，以找到最佳参数组合\n",
    "grid.fit(X_train, y_train)"
   ],
   "outputs": []
  },
  {
   "cell_type": "code",
   "execution_count": 15,
   "metadata": {},
   "source": [
    "# 打印网格搜索得到的最佳模型\n",
    "print(\"Best:\\n\", grid.best_estimator_)"
   ],
   "outputs": []
  },
  {
   "cell_type": "code",
   "execution_count": 16,
   "metadata": {},
   "source": [
    "# 打印训练集上的得分（准确率）\n",
    "print(\"Train score: {:.2f}\".format(grid.score(X_train, y_train)))\n",
    "\n",
    "# 打印测试集上的得分（准确率）\n",
    "print(\"Test score: {:.2f}\".format(grid.score(X_test, y_test)))"
   ],
   "outputs": []
  },
  {
   "cell_type": "code",
   "execution_count": 17,
   "metadata": {},
   "source": [
    "# 打印网格搜索期间交叉验证得到的最佳平均得分\n",
    "print(grid.best_score_)"
   ],
   "outputs": []
  },
  {
   "cell_type": "code",
   "execution_count": 18,
   "metadata": {},
   "source": [
    "# 将网格搜索的交叉验证结果转换为 DataFrame\n",
    "results = pd.DataFrame(grid.cv_results_)\n",
    "\n",
    "# 转置结果 DataFrame 并显示（为了更方便查看每个参数组合的评估结果）\n",
    "display(results.T)"
   ],
   "outputs": []
  },
  {
   "cell_type": "code",
   "execution_count": null,
   "metadata": {},
   "source": [],
   "outputs": []
  }
 ],
 "metadata": {
  "kernelspec": {
   "display_name": "Python 3",
   "language": "python",
   "name": "python3"
  },
  "language_info": {
   "codemirror_mode": {
    "name": "ipython",
    "version": 3
   },
   "file_extension": ".py",
   "mimetype": "text/x-python",
   "name": "python",
   "nbconvert_exporter": "python",
   "pygments_lexer": "ipython3",
   "version": "3.7.9"
  }
 },
 "nbformat": 4,
 "nbformat_minor": 4
}
