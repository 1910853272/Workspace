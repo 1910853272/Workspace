{
 "cells": [
  {
   "cell_type": "markdown",
   "metadata": {},
   "source": [
    "# In-sensor reservoir computing for language learning via two-dimensional memristors"
   ]
  },
  {
   "cell_type": "code",
   "execution_count": 1,
   "metadata": {},
   "source": [
    "import pandas as pd\n",
    "import numpy as np\n",
    "from IPython.display import display"
   ],
   "outputs": []
  },
  {
   "cell_type": "code",
   "execution_count": 2,
   "metadata": {},
   "source": [
    "# 从Excel文件中加载数据到DataFrame\n",
    "data = pd.read_excel(\"./data.xlsx\")\n",
    "\n",
    "# 将电导值从西门子 (S) 转换为纳西门子 (nS)\n",
    "data *= 1E9"
   ],
   "outputs": []
  },
  {
   "cell_type": "markdown",
   "metadata": {},
   "source": [
    "## Make train dataset\n",
    "使用不同标准差的高斯分布对神经元输出电流进行建模"
   ]
  },
  {
   "cell_type": "code",
   "execution_count": 3,
   "metadata": {},
   "source": [
    "# 设置标准差为 0.1\n",
    "Standard_deviation = 0.1\n",
    "\n",
    "# 创建一个空的 DataFrame 用于存储训练数据\n",
    "train_data_01 = pd.DataFrame()\n",
    "\n",
    "# data.xlsx 文件应包含至少 25 行数据，总共5列。行代表电流值，列代表脉冲\n",
    "# 把每5个脉冲输出的电流取最大值和最小值的均值形成正态分布，代表每个字的一行。\n",
    "# 使用正态分布的随机数据模拟实验或观测数据的随机性\n",
    "\n",
    "# 循环生成五组数据，每一个cell代表一个神经元\n",
    "# letter代表由5行电流值对应的一个字母\n",
    "for i in range(0, 5):\n",
    "    # 创建 'LETTER' 列，生成服从正态分布的随机数据，均值为 i，标准差为 0\n",
    "    data0 = pd.DataFrame({'LETTER': np.random.normal(i, 0, size=100)})\n",
    "    \n",
    "    # 生成 'CELL1' 列，数据的均值是 data 中第 5*i 行的最大值和最小值的均值，标准差为 0.1\n",
    "    data1 = pd.DataFrame({'CELL1': np.random.normal(np.mean([np.max(data.iloc[5*i+0]), np.min(data.iloc[5*i+0])]), 0.1, size=100)})\n",
    "    \n",
    "    # 生成 'CELL2' 列，数据的均值是 data 中第 5*i+1 行的最大值和最小值的均值，标准差为 0.1\n",
    "    data2 = pd.DataFrame({'CELL2': np.random.normal(np.mean([np.max(data.iloc[5*i+1]), np.min(data.iloc[5*i+1])]), 0.1, size=100)})\n",
    "    \n",
    "    # 生成 'CELL3' 列，数据的均值是 data 中第 5*i+2 行的最大值和最小值的均值，标准差为 0.1\n",
    "    data3 = pd.DataFrame({'CELL3': np.random.normal(np.mean([np.max(data.iloc[5*i+2]), np.min(data.iloc[5*i+2])]), 0.1, size=100)})\n",
    "    \n",
    "    # 生成 'CELL4' 列，数据的均值是 data 中第 5*i+3 行的最大值和最小值的均值，标准差为 0.1\n",
    "    data4 = pd.DataFrame({'CELL4': np.random.normal(np.mean([np.max(data.iloc[5*i+3]), np.min(data.iloc[5*i+3])]), 0.1, size=100)})\n",
    "    \n",
    "    # 生成 'CELL5' 列，数据的均值是 data 中第 5*i+4 行的最大值和最小值的均值，标准差为 0.1\n",
    "    data5 = pd.DataFrame({'CELL5': np.random.normal(np.mean([np.max(data.iloc[5*i+4]), np.min(data.iloc[5*i+4])]), 0.1, size=100)})\n",
    "    \n",
    "    # 将 data0, data1, data2, data3, data4, data5 沿列方向合并，然后将其添加到训练数据集中\n",
    "    train_data_01 = pd.concat([train_data_01, pd.concat([data0, data1, data2, data3, data4, data5], axis=1)])\n",
    "\n",
    "# 显示生成的训练数据\n",
    "display(train_data_01)\n",
    "\n",
    "# 将训练数据保存为 CSV 文件，编码方式为 CP949，且不保存索引\n",
    "train_data_01.to_csv(\"train_data_01.csv\", encoding=\"CP949\", index=False)"
   ],
   "outputs": []
  },
  {
   "cell_type": "markdown",
   "metadata": {},
   "source": [
    "## Graph of data distribution (Train dataset)"
   ]
  },
  {
   "cell_type": "code",
   "execution_count": 4,
   "metadata": {},
   "source": [
    "# 创建一个空的 DataFrame 用于存储所有数据\n",
    "total_data = pd.DataFrame()\n",
    "\n",
    "# 循环处理五组数据\n",
    "for i in range(0, 5):\n",
    "    # 选取 train_data_01 中的第 i 组数据（100 行数据）\n",
    "    total = train_data_01[100*i:100*(i+1)]\n",
    "    \n",
    "    # 将选定的数据从宽格式转换为长格式，只保留 'CELL1', 'CELL2', 'CELL3', 'CELL4', 'CELL5' 列\n",
    "    total = pd.melt(total, value_vars=['CELL1', 'CELL2', 'CELL3', 'CELL4', 'CELL5'])\n",
    "    \n",
    "    # 将每次处理的数据连接到 total_data 中，沿列方向合并\n",
    "    total_data = pd.concat([total_data, total], axis=1)\n",
    "\n",
    "# 显示合并后的总数据\n",
    "display(total_data)"
   ],
   "outputs": []
  },
  {
   "cell_type": "code",
   "execution_count": 5,
   "metadata": {},
   "source": [
    "import matplotlib.pyplot as plt \n",
    "import seaborn as sns \n",
    "\n",
    "# 循环绘制五组数据的分布图\n",
    "for i in range(0, 5):\n",
    "    \n",
    "    # 定义细胞列名称\n",
    "    Cells = ['CELL1', 'CELL2', 'CELL3', 'CELL4', 'CELL5']\n",
    "    \n",
    "    # 设置画布大小\n",
    "    plt.figure(figsize=(20, 6))    \n",
    "    \n",
    "    # 设置 Seaborn 图形样式\n",
    "    sns.set(font_scale=1.5)  # 设置字体缩放比例\n",
    "    sns.set_style(\"whitegrid\")  # 设置网格样式\n",
    "    sns.set_style(\"white\")  # 设置白色背景样式（覆盖之前的样式）\n",
    "    \n",
    "    # 绘制每个细胞数据的概率密度曲线\n",
    "    for Num in Cells:\n",
    "        # 选取对应细胞的子集数据，利用 'variable' 列筛选数据\n",
    "        subset = total_data.iloc[:, (2*i):(2*(i+1))][total_data.iloc[:, (2*i):(2*(i+1))]['variable'] == Num]\n",
    "\n",
    "        # 使用 Seaborn 绘制概率密度图（核密度估计）\n",
    "        sns.distplot(subset['value'], hist=False, kde=True,\n",
    "                     kde_kws={'linewidth': 1},\n",
    "                     label=Num)   \n",
    "    \n",
    "    # 设置图表标题，显示当前字母的编号\n",
    "    plt.title('Letter' + str(i+1), fontsize=25)\n",
    "    \n",
    "    # 设置图例\n",
    "    plt.legend(fontsize=15, loc='upper right')\n",
    "    \n",
    "    # 设置 x 轴标签\n",
    "    plt.xlabel('Conductance(nS)', fontsize=18)"
   ],
   "outputs": []
  },
  {
   "cell_type": "markdown",
   "metadata": {},
   "source": [
    "## Make test dataset"
   ]
  },
  {
   "cell_type": "code",
   "execution_count": 6,
   "metadata": {},
   "source": [
    "# 设置标准差为 0.1\n",
    "Standard_deviation = 0.1\n",
    "\n",
    "# 创建一个空的 DataFrame 用于存储测试数据\n",
    "test_data_01 = pd.DataFrame()\n",
    "\n",
    "# 循环生成五组数据\n",
    "for i in range(0, 5):\n",
    "    # 创建 'LETTER' 列，生成服从正态分布的随机数据，均值为 i，标准差为 0\n",
    "    data0 = pd.DataFrame({'LETTER': np.random.normal(i, 0, size=100)})\n",
    "    \n",
    "    # 生成 'CELL1' 列，数据的均值是 data 中第 5*i 行的最大值和最小值的均值，标准差为 0.1\n",
    "    data1 = pd.DataFrame({'CELL1': np.random.normal(np.mean([np.max(data.iloc[5*i+0]), np.min(data.iloc[5*i+0])]), 0.1, size=100)})\n",
    "    \n",
    "    # 生成 'CELL2' 列，数据的均值是 data 中第 5*i+1 行的最大值和最小值的均值，标准差为 0.1\n",
    "    data2 = pd.DataFrame({'CELL2': np.random.normal(np.mean([np.max(data.iloc[5*i+1]), np.min(data.iloc[5*i+1])]), 0.1, size=100)})\n",
    "    \n",
    "    # 生成 'CELL3' 列，数据的均值是 data 中第 5*i+2 行的最大值和最小值的均值，标准差为 0.1\n",
    "    data3 = pd.DataFrame({'CELL3': np.random.normal(np.mean([np.max(data.iloc[5*i+2]), np.min(data.iloc[5*i+2])]), 0.1, size=100)})\n",
    "    \n",
    "    # 生成 'CELL4' 列，数据的均值是 data 中第 5*i+3 行的最大值和最小值的均值，标准差为 0.1\n",
    "    data4 = pd.DataFrame({'CELL4': np.random.normal(np.mean([np.max(data.iloc[5*i+3]), np.min(data.iloc[5*i+3])]), 0.1, size=100)})\n",
    "    \n",
    "    # 生成 'CELL5' 列，数据的均值是 data 中第 5*i+4 行的最大值和最小值的均值，标准差为 0.1\n",
    "    data5 = pd.DataFrame({'CELL5': np.random.normal(np.mean([np.max(data.iloc[5*i+4]), np.min(data.iloc[5*i+4])]), 0.1, size=100)})\n",
    "    \n",
    "    # 将 data0, data1, data2, data3, data4, data5 沿列方向合并，然后将其添加到测试数据集中\n",
    "    test_data_01 = pd.concat([test_data_01, pd.concat([data0, data1, data2, data3, data4, data5], axis=1)])\n",
    "\n",
    "# 显示生成的测试数据\n",
    "display(test_data_01)\n",
    "\n",
    "# 将测试数据保存为 CSV 文件，编码方式为 CP949，且不保存索引\n",
    "test_data_01.to_csv(\"test_data_01.csv\", encoding=\"CP949\", index=False)"
   ],
   "outputs": []
  },
  {
   "cell_type": "markdown",
   "metadata": {},
   "source": [
    "## Graph of data distribution (Test dataset)"
   ]
  },
  {
   "cell_type": "code",
   "execution_count": 7,
   "metadata": {},
   "source": [
    "# 创建一个空的 DataFrame 用于存储所有数据\n",
    "total_data2 = pd.DataFrame()\n",
    "\n",
    "# 循环处理十五组数据\n",
    "for i in range(0, 15):\n",
    "    # 选取 test_data_01 中的第 i 组数据（100 行数据）\n",
    "    total2 = test_data_01[100*i:100*(i+1)]\n",
    "    \n",
    "    # 将选定的数据从宽格式转换为长格式，只保留 'CELL1', 'CELL2', 'CELL3', 'CELL4', 'CELL5' 列\n",
    "    total2 = pd.melt(total2, value_vars=['CELL1', 'CELL2', 'CELL3', 'CELL4', 'CELL5'])\n",
    "    \n",
    "    # 将每次处理的数据连接到 total_data2 中，沿列方向合并\n",
    "    total_data2 = pd.concat([total_data2, total2], axis=1)\n",
    "\n",
    "# 显示合并后的总数据\n",
    "display(total_data2)\n"
   ],
   "outputs": []
  },
  {
   "cell_type": "code",
   "execution_count": 8,
   "metadata": {
    "scrolled": false
   },
   "source": [
    "# 循环绘制五组数据的分布图\n",
    "for i in range(0, 5):\n",
    "    \n",
    "    # 定义细胞列名称\n",
    "    Cells = ['CELL1', 'CELL2', 'CELL3', 'CELL4', 'CELL5']\n",
    "    \n",
    "    # 设置画布大小\n",
    "    plt.figure(figsize=(20, 6))    \n",
    "    \n",
    "    # 设置 Seaborn 图形样式\n",
    "    sns.set(font_scale=1.5)  # 设置字体缩放比例\n",
    "    sns.set_style(\"whitegrid\")  # 设置网格样式\n",
    "    sns.set_style(\"white\")  # 设置白色背景样式（覆盖之前的样式）\n",
    "    \n",
    "    # 绘制每个细胞数据的概率密度曲线，横轴和纵轴分别表示数据值的范围和概率密度\n",
    "    for Num in Cells:\n",
    "        # 选取对应细胞的子集数据，利用 'variable' 列筛选数据\n",
    "        subset = total_data2.iloc[:, (2*i):(2*(i+1))][total_data2.iloc[:, (2*i):(2*(i+1))]['variable'] == Num]\n",
    "\n",
    "        # 使用 Seaborn 绘制概率密度图（核密度估计）\n",
    "        sns.distplot(subset['value'], hist=False, kde=True,\n",
    "                     kde_kws={'linewidth': 1},\n",
    "                     label=Num)   \n",
    "    \n",
    "    # 设置图表标题，显示当前字母的编号\n",
    "    plt.title('Letter' + str(i+1), fontsize=25)\n",
    "    \n",
    "    # 设置图例\n",
    "    plt.legend(fontsize=15, loc='upper right')\n",
    "    \n",
    "    # 设置 x 轴标签\n",
    "    plt.xlabel('Conductance(nS)', fontsize=18)"
   ],
   "outputs": []
  },
  {
   "cell_type": "code",
   "execution_count": null,
   "metadata": {},
   "source": [],
   "outputs": []
  }
 ],
 "metadata": {
  "interpreter": {
   "hash": "7612e27b2483e7f5aeda2928659eb383d2cf1bf2d27a5aeb518d638c00fc4739"
  },
  "kernelspec": {
   "display_name": "Python 3",
   "language": "python",
   "name": "python3"
  },
  "language_info": {
   "codemirror_mode": {
    "name": "ipython",
    "version": 3
   },
   "file_extension": ".py",
   "mimetype": "text/x-python",
   "name": "python",
   "nbconvert_exporter": "python",
   "pygments_lexer": "ipython3",
   "version": "3.7.9"
  }
 },
 "nbformat": 4,
 "nbformat_minor": 4
}
