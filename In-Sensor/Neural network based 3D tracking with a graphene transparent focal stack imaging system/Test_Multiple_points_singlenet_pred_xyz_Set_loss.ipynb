{
 "cells": [
  {
   "cell_type": "markdown",
   "metadata": {},
   "source": [
    "## Test time inference using trained model for Multiple_points_singlenet_pred_xyz_Set_loss"
   ]
  },
  {
   "cell_type": "code",
   "execution_count": null,
   "metadata": {},
   "outputs": [],
   "source": [
    "import numpy as np\n",
    "import torch\n",
    "import torch.nn as nn\n",
    "import torch.nn.functional as F\n",
    "from torch.autograd import Variable\n",
    "from torch.utils.data import DataLoader\n",
    "from torch.utils.data.dataset import random_split,Subset\n",
    "from torch.nn.parameter import Parameter\n",
    "from logger import Logger\n",
    "import os\n",
    "from utils_twopoints import *\n",
    "from visualize import show2D_2objs, show2D_3objs\n",
    "import matplotlib.pyplot as plt\n",
    "\n",
    "plt.rcParams['figure.figsize'] = (10.0, 8.0) # set default size of plots\n",
    "plt.rcParams['image.interpolation'] = 'nearest'\n",
    "plt.rcParams['image.cmap'] = 'gray'\n",
    "torch.backends.cudnn.deterministic=True\n",
    "\n",
    "plt.rcParams.update({'font.size': 15,'lines.markersize':10})"
   ]
  },
  {
   "cell_type": "code",
   "execution_count": null,
   "metadata": {},
   "outputs": [],
   "source": [
    "np.random.seed(190)\n",
    "torch.manual_seed(120) ##set the random seed so when construct the \n",
    "\n",
    "#os.chdir('E:/Academic/MATLAB/Dehui_FS/2018_11_21 CCD XYZ sweep')\n",
    "#data_path='FS_LD9by9_All_CCD sweep xyz_avg_win20_normalizedbymax'\n",
    "\n",
    "os.chdir('/home/zyhuang/WD/Net3D/2018_11_21 CCD XYZ sweep/')\n",
    "data_path = 'FS_9by9_CMOS_avg_win20_normalizedbymax'\n",
    "\n",
    "scale_z=True #divide z coord by 33.3 to make it has same range as x,y\n",
    "lr=1e-3\n",
    "num_epoch=2000\n",
    "bs_test=282 #specify test set size\n",
    "bs_train=100#remaining used as trainset\n",
    "num_features=64\n",
    "#input_dim=4*4*2\n",
    "input_dim=9*9*2\n",
    "nx,ny,nz=11,11,11\n",
    "\n",
    "#relative_pos_list=[[(0,0,0),(1,2,3)]] # for two objs, single shift\n",
    "#relative_pos_list=[[(0,0,1),(0,3,0)],[(0,1,3),(2,1,1)]] # for two objs, two shift\n",
    "#relative_pos_list=[[(0,0,1),(0,3,0)],[(0,1,3),(2,1,1)],[(1,3,2),(0,1,1)]] #for two objs, three shifts\n",
    "#relative_pos_list=[[(0,0,1),(0,3,0),(1,0,2)],[(0,1,3),(2,1,1),(3,3,2)]] # for three objs, two shift\n",
    "relative_pos_list=[[(0,0,1),(0,3,0),(1,0,2)],[(0,1,3),(2,1,1),(3,3,2)],[(3,2,2),(0,2,1),(3,0,2)]] # for three objs, three shift\n",
    "Nshift=len(relative_pos_list)\n",
    "Nobj=len(relative_pos_list[0])\n",
    "Nobj_eng={'2':'two','3':'three'}\n",
    "\n",
    "if Nshift==1:\n",
    "    relative_pos=relative_pos_list[0]\n",
    "    ds_Full=globals()['FSdataset_'+Nobj_eng[str(Nobj)]+'points_v2'](data_path,relative_pos=relative_pos,nx=nx,ny=ny,nz=nz,scale_z=scale_z)\n",
    "    save_name=str(Nobj)+'_objs_singlenetxyz_Set_loss_1shift_scale_z_'+str(scale_z)+'/'+\"\".join([s for s in str(relative_pos) if s.isdigit()])+'/depthnet4_Nobj_xyz('+str(num_features)+'features)'\\\n",
    "    +'_adam_lr_'+str(lr)+'_bs_train_'+str(bs_train)+'_bs_test_'+str(bs_test)+'_numepoch_'+str(num_epoch)\n",
    "else:\n",
    "    ds_Full=globals()['FSdataset_'+Nobj_eng[str(Nobj)]+'points_multipleshifts_v2'](data_path,relative_pos_list=relative_pos_list,nx=nx,ny=ny,nz=nz,scale_z=scale_z)\n",
    "    save_name=str(Nobj)+'_objs_singlenetxyz_Set_loss_'+str(Nshift)+'shifts_scale_z_'+str(scale_z)+'/'+\"\".join([s for s in str(relative_pos_list) if s.isdigit()])\\\n",
    "    +'/depthnet4_Nobj_xyz('+str(num_features)+'features)'+'_adam_lr_'+str(lr)+'_bs_train_'+str(bs_train)+'_bs_test_'+str(bs_test)+'_numepoch_'+str(num_epoch)\n",
    "print(\"Length of Full dataset is %s\" %len(ds_Full))\n",
    "ds_train,ds_test=random_split(ds_Full, [len(ds_Full)-bs_test,bs_test])   \n",
    "train_loader=DataLoader(ds_train, batch_size=bs_train,shuffle=True)\n",
    "test_loader=DataLoader(ds_test, batch_size=bs_test,shuffle=False)\n",
    "\n",
    "#dtype = torch.FloatTensor ##run on cpu\n",
    "dtype = torch.cuda.FloatTensor \n",
    "\n",
    "net=depthnet4_Nobj_xyz(input_dim,num_features,Nobj=Nobj)\n",
    "net.type(dtype)\n",
    "net.load_state_dict(torch.load('logs_paper_data/model.pth'))\n"
   ]
  },
  {
   "cell_type": "code",
   "execution_count": null,
   "metadata": {},
   "outputs": [],
   "source": [
    "net.eval()\n",
    "test_bat=next(iter(test_loader))\n",
    "FS_bat,trueXYZobjs_bat=test_bat['FS'],test_bat['xyz'][:,:]\n",
    "#predXYZobjs_bat=torch.cat((net_x(Variable(FS_bat.type(dtype))),net_y(Variable(FS_bat.type(dtype))),net_z(Variable(FS_bat.type(dtype)))),dim=1).data.cpu()[:,[0,2,4,1,3,5]]\n",
    "predXYZobjs_bat=net(Variable(FS_bat).type(dtype)).data.cpu()\n",
    "\n",
    "#scale back the z coordinates\n",
    "#predXYZobjs_bat[:,[2,5]] = predXYZobjs_bat[:,[2,5]]*33.3\n",
    "#trueXYZobjs_bat[:,[2,5]] = trueXYZobjs_bat[:,[2,5]]*33.3\n",
    "predXYZobjs_bat[:,[2,5,8]] = predXYZobjs_bat[:,[2,5,8]]*33.3\n",
    "trueXYZobjs_bat[:,[2,5,8]] = trueXYZobjs_bat[:,[2,5,8]]*33.3\n",
    "\n",
    "print(predXYZobjs_bat)\n",
    "print(trueXYZobjs_bat)\n",
    "\n",
    "offset = 215 # how many offset in the sample index to make the plot\n",
    "globals()['show2D_'+str(Nobj)+'objs'](trueXYZobjs_bat,predXYZobjs_bat,howmany=4,offset=offset,save_name='logs_paper_data/2Ds-offset_'+str(offset))   "
   ]
  },
  {
   "cell_type": "code",
   "execution_count": null,
   "metadata": {},
   "outputs": [],
   "source": [
    "##Timing benchmark code\n",
    "# res=32\n",
    "# input_dim=res*res*2\n",
    "# net=depthnet4_Nobj_xyz(input_dim,num_features,Nobj=3)\n",
    "# net.type(dtype)\n",
    "# net.eval()\n",
    "\n",
    "# FS_bat=torch.zeros(1,2,res,res)\n",
    "# #predXYZobjs_bat=torch.cat((net_x(Variable(FS_bat.type(dtype))),net_y(Variable(FS_bat.type(dtype))),net_z(Variable(FS_bat.type(dtype)))),dim=1).data.cpu()[:,[0,2,4,1,3,5]]\n",
    "\n",
    "# times = []\n",
    "# for _ in range(5000):\n",
    "#     start = torch.cuda.Event(enable_timing=True)\n",
    "#     end = torch.cuda.Event(enable_timing=True)\n",
    "#     start.record()\n",
    "#     with torch.no_grad():\n",
    "#         predXYZobjs_bat=net(Variable(FS_bat).type(dtype))\n",
    "#         end.record()\n",
    "#         torch.cuda.synchronize()\n",
    "#         #print(start.elapsed_time(end))\n",
    "#         times.append(start.elapsed_time(end))\n",
    "# print('Mean is {0:.3f}'.format(np.mean(times)))\n"
   ]
  },
  {
   "cell_type": "code",
   "execution_count": null,
   "metadata": {},
   "outputs": [],
   "source": []
  }
 ],
 "metadata": {
  "kernelspec": {
   "display_name": "Python 3",
   "language": "python",
   "name": "python3"
  },
  "language_info": {
   "codemirror_mode": {
    "name": "ipython",
    "version": 3
   },
   "file_extension": ".py",
   "mimetype": "text/x-python",
   "name": "python",
   "nbconvert_exporter": "python",
   "pygments_lexer": "ipython3",
   "version": "3.6.10"
  }
 },
 "nbformat": 4,
 "nbformat_minor": 2
}
