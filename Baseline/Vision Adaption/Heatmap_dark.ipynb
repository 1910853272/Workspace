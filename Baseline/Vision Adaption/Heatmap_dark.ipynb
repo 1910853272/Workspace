{
 "cells": [
  {
   "metadata": {},
   "cell_type": "markdown",
   "source": "# 使矩阵数值从0 23.6 45.3 55.1 65.7 对应从#000000 #1D2227 #ABCBE4 #6BA3CF #2B7BBA的颜色变化，热图颜色最深处为65.7 对应的#2B7BBA颜色，最浅为0对应的黑色",
   "id": "f26273a939bb374d"
  },
  {
   "metadata": {
    "ExecuteTime": {
     "end_time": "2025-06-19T10:51:10.150345Z",
     "start_time": "2025-06-19T10:51:09.401337Z"
    }
   },
   "cell_type": "code",
   "source": [
    "import numpy as np\n",
    "import matplotlib.pyplot as plt\n",
    "from matplotlib.colors import LinearSegmentedColormap, Normalize\n",
    "\n",
    "# 定义矩阵（可换成你的）\n",
    "letter_U = np.array([\n",
    "    [0, 0, 0, 0, 0, 0, 0, 0],\n",
    "    [0, 0, 0, 0, 0, 0, 0, 0],\n",
    "    [0, 0, 0, 0, 0, 0, 0, 0],\n",
    "    [0, 0, 0, 0, 0, 0, 0, 0],\n",
    "    [0, 0, 0, 0, 0, 0, 0, 0],\n",
    "    [0, 0, 0, 0, 0, 0, 0, 0],\n",
    "    [0, 0, 0, 0, 0, 0, 0, 0],\n",
    "    [0, 0, 0, 0, 0, 0, 0, 0]\n",
    "])\n",
    "# 关键值与对应颜色\n",
    "values = np.array([0, 23.6, 45.3, 55.1, 65.7])\n",
    "colors = ['#000000', '#1D2227', '#ABCBE4', '#6BA3CF', '#2B7BBA']\n",
    "\n",
    "# 归一化\n",
    "normed_values = (values - values[0]) / (values[-1] - values[0])\n",
    "\n",
    "# 自定义colormap\n",
    "cmap = LinearSegmentedColormap.from_list(\"custom\", list(zip(normed_values, colors)))\n",
    "\n",
    "norm = Normalize(vmin=values[0], vmax=values[-1])\n",
    "\n",
    "# 画图\n",
    "plt.figure(figsize=(4,4))\n",
    "im = plt.imshow(letter_U, cmap=cmap, norm=norm, interpolation='nearest')\n",
    "plt.axis('off')\n",
    "plt.colorbar(im, label='$I_b$ ($\\mu A$)')\n",
    "plt.savefig('0.png', bbox_inches='tight', dpi=300)\n",
    "plt.show()\n"
   ],
   "id": "b187b1ab6fc0198d",
   "outputs": [
    {
     "data": {
      "text/plain": [
       "<Figure size 400x400 with 2 Axes>"
      ],
      "image/png": "[encoded data removed]"
     },
     "metadata": {},
     "output_type": "display_data"
    }
   ],
   "execution_count": 1
  },
  {
   "metadata": {
    "ExecuteTime": {
     "end_time": "2025-06-09T05:45:04.035313Z",
     "start_time": "2025-06-09T05:45:03.898645Z"
    }
   },
   "cell_type": "code",
   "source": [
    "import numpy as np\n",
    "import matplotlib.pyplot as plt\n",
    "from matplotlib.colors import LinearSegmentedColormap, Normalize\n",
    "\n",
    "# 定义矩阵（可换成你的）\n",
    "letter_U = np.array([\n",
    "    [0, 0, 0, 0, 0, 0, 0, 0],\n",
    "    [0, 20.6, 0, 0, 0, 0, 24.4, 0],\n",
    "    [0, 21, 0, 0, 0, 0, 24.6, 0],\n",
    "    [0, 23.6, 0, 0, 0, 0, 22.6, 0],\n",
    "    [0, 23, 0, 0, 0, 0, 21.6, 0],\n",
    "    [0, 22.3, 0, 0, 0, 0, 23.6, 0],\n",
    "    [0, 22.6, 21, 20.6, 21.9, 23, 23, 0],\n",
    "    [0, 0, 0, 0, 0, 0, 0, 0]\n",
    "])\n",
    "# 关键值与对应颜色\n",
    "values = np.array([0, 23.6, 45.3, 55.1, 65.7])\n",
    "colors = ['#000000', '#1D2227', '#ABCBE4', '#6BA3CF', '#2B7BBA']\n",
    "\n",
    "# 归一化\n",
    "normed_values = (values - values[0]) / (values[-1] - values[0])\n",
    "\n",
    "# 自定义colormap\n",
    "cmap = LinearSegmentedColormap.from_list(\"custom\", list(zip(normed_values, colors)))\n",
    "\n",
    "norm = Normalize(vmin=values[0], vmax=values[-1])\n",
    "\n",
    "# 画图\n",
    "plt.figure(figsize=(4,4))\n",
    "im = plt.imshow(letter_U, cmap=cmap, norm=norm, interpolation='nearest')\n",
    "plt.axis('off')\n",
    "plt.colorbar(im, label='$I_b$ ($\\mu A$)')\n",
    "plt.savefig('1.png', bbox_inches='tight', dpi=300)\n",
    "plt.show()\n"
   ],
   "id": "1993c91eb51810bb",
   "execution_count": 108,
   "outputs": []
  },
  {
   "metadata": {
    "ExecuteTime": {
     "end_time": "2025-06-09T05:26:42.236412Z",
     "start_time": "2025-06-09T05:26:42.108634Z"
    }
   },
   "cell_type": "code",
   "source": [
    "import numpy as np\n",
    "import matplotlib.pyplot as plt\n",
    "from matplotlib.colors import LinearSegmentedColormap, Normalize\n",
    "\n",
    "letter_U = np.array([\n",
    "    [0, 0, 0, 0, 0, 0, 0, 0],\n",
    "    [0, 40.3, 0, 0, 0, 0, 46.3, 0],\n",
    "    [0, 41.3, 0, 0, 0, 0, 45.9, 0],\n",
    "    [0, 45.3, 0, 0, 0, 0, 43.3, 0],\n",
    "    [0, 45.3, 0, 0, 0, 0, 43.3, 0],\n",
    "    [0, 43.3, 0, 0, 0, 0, 45.3, 0],\n",
    "    [0, 42.8, 44.3, 44.5, 44.9, 45.3, 45, 0],\n",
    "    [0, 0, 0, 0, 0, 0, 0, 0]\n",
    "])\n",
    "# 关键值与对应颜色\n",
    "values = np.array([0, 23.6, 45.3, 55.1, 65.7])\n",
    "colors = ['#000000', '#1D2227', '#ABCBE4', '#6BA3CF', '#2B7BBA']\n",
    "\n",
    "# 归一化\n",
    "normed_values = (values - values[0]) / (values[-1] - values[0])\n",
    "\n",
    "# 自定义colormap\n",
    "cmap = LinearSegmentedColormap.from_list(\"custom\", list(zip(normed_values, colors)))\n",
    "\n",
    "norm = Normalize(vmin=values[0], vmax=values[-1])\n",
    "\n",
    "# 画图\n",
    "plt.figure(figsize=(4,4))\n",
    "im = plt.imshow(letter_U, cmap=cmap, norm=norm, interpolation='nearest')\n",
    "plt.axis('off')\n",
    "plt.colorbar(im, label='$I_b$ ($\\mu A$)')\n",
    "plt.savefig('2.png', bbox_inches='tight', dpi=300)\n",
    "plt.show()\n"
   ],
   "id": "11f92996df863152",
   "execution_count": 81,
   "outputs": []
  },
  {
   "metadata": {
    "ExecuteTime": {
     "end_time": "2025-06-09T05:26:42.615774Z",
     "start_time": "2025-06-09T05:26:42.479553Z"
    }
   },
   "cell_type": "code",
   "source": [
    "import numpy as np\n",
    "import matplotlib.pyplot as plt\n",
    "from matplotlib.colors import LinearSegmentedColormap, Normalize\n",
    "\n",
    "letter_U = np.array([\n",
    "    [0, 0, 0, 0, 0, 0, 0, 0],\n",
    "    [0, 51.1, 0, 0, 0, 0, 56.1, 0],\n",
    "    [0, 52.1, 0, 0, 0, 0, 55.7, 0],\n",
    "    [0, 55.1, 0, 0, 0, 0, 53.1, 0],\n",
    "    [0, 55.1, 0, 0, 0, 0, 53.5, 0],\n",
    "    [0, 53.1, 0, 0, 0, 0, 55.1, 0],\n",
    "    [0, 51.1, 52.4, 53.1, 52.7, 53.5, 53.6, 0],\n",
    "    [0, 0, 0, 0, 0, 0, 0, 0]\n",
    "])\n",
    "# 关键值与对应颜色\n",
    "values = np.array([0, 23.6, 45.3, 55.1, 65.7])\n",
    "colors = ['#000000', '#1D2227', '#ABCBE4', '#6BA3CF', '#2B7BBA']\n",
    "\n",
    "# 归一化\n",
    "normed_values = (values - values[0]) / (values[-1] - values[0])\n",
    "\n",
    "# 自定义colormap\n",
    "cmap = LinearSegmentedColormap.from_list(\"custom\", list(zip(normed_values, colors)))\n",
    "\n",
    "norm = Normalize(vmin=values[0], vmax=values[-1])\n",
    "\n",
    "# 画图\n",
    "plt.figure(figsize=(4,4))\n",
    "im = plt.imshow(letter_U, cmap=cmap, norm=norm, interpolation='nearest')\n",
    "plt.axis('off')\n",
    "plt.colorbar(im, label='$I_b$ ($\\mu A$)')\n",
    "plt.savefig('3.png', bbox_inches='tight', dpi=300)\n",
    "plt.show()\n"
   ],
   "id": "cafbdf1c68181f8b",
   "execution_count": 82,
   "outputs": []
  },
  {
   "metadata": {
    "ExecuteTime": {
     "end_time": "2025-06-09T05:26:42.750118Z",
     "start_time": "2025-06-09T05:26:42.742074Z"
    }
   },
   "cell_type": "code",
   "source": "",
   "id": "4325981ea7ff0317",
   "execution_count": 82,
   "outputs": []
  },
  {
   "metadata": {
    "ExecuteTime": {
     "end_time": "2025-06-09T05:26:43.125635Z",
     "start_time": "2025-06-09T05:26:43.000022Z"
    }
   },
   "cell_type": "code",
   "source": [
    "import numpy as np\n",
    "import matplotlib.pyplot as plt\n",
    "from matplotlib.colors import LinearSegmentedColormap, Normalize\n",
    "\n",
    "# 定义矩阵（可换成你的）\n",
    "letter_U = np.array([\n",
    "    [0, 0, 0, 0, 0, 0, 0, 0],\n",
    "    [0, 61.7, 0, 0, 0, 0, 66.7, 0],\n",
    "    [0, 62.7, 0, 0, 0, 0, 65, 0],\n",
    "    [0, 65.7, 0, 0, 0, 0, 61.7, 0],\n",
    "    [0, 65, 0, 0, 0, 0, 62, 0],\n",
    "    [0, 62, 0, 0, 0, 0, 63.7, 0],\n",
    "    [0, 61.7, 62.7, 63.7, 63, 64, 65, 0],\n",
    "    [0, 0, 0, 0, 0, 0, 0, 0]\n",
    "])\n",
    "\n",
    "# 关键值与对应颜色\n",
    "values = np.array([0, 23.6, 45.3, 55.1, 65.7])\n",
    "colors = ['#000000', '#1D2227', '#ABCBE4', '#6BA3CF', '#2B7BBA']\n",
    "\n",
    "# 归一化\n",
    "normed_values = (values - values[0]) / (values[-1] - values[0])\n",
    "\n",
    "# 自定义colormap\n",
    "cmap = LinearSegmentedColormap.from_list(\"custom\", list(zip(normed_values, colors)))\n",
    "\n",
    "norm = Normalize(vmin=values[0], vmax=values[-1])\n",
    "\n",
    "# 画图\n",
    "plt.figure(figsize=(4,4))\n",
    "im = plt.imshow(letter_U, cmap=cmap, norm=norm, interpolation='nearest')\n",
    "plt.axis('off')\n",
    "plt.colorbar(im, label='$I_b$ ($\\mu A$)')\n",
    "plt.savefig('4.png', bbox_inches='tight', dpi=300)\n",
    "plt.show()\n"
   ],
   "id": "294e40d1f01b3fcf",
   "execution_count": 83,
   "outputs": []
  },
  {
   "metadata": {},
   "cell_type": "code",
   "execution_count": null,
   "source": "",
   "id": "c7b5584a15dfc16d",
   "outputs": []
  },
  {
   "metadata": {},
   "cell_type": "code",
   "execution_count": null,
   "source": "",
   "id": "3d448418de05f2ec",
   "outputs": []
  },
  {
   "metadata": {},
   "cell_type": "code",
   "execution_count": null,
   "source": "",
   "id": "9691ff93fdd09587",
   "outputs": []
  },
  {
   "metadata": {},
   "cell_type": "code",
   "execution_count": null,
   "source": "",
   "id": "c079464e41cd79f6",
   "outputs": []
  }
 ],
 "metadata": {
  "kernelspec": {
   "display_name": "Python 3",
   "language": "python",
   "name": "python3"
  },
  "language_info": {
   "codemirror_mode": {
    "name": "ipython",
    "version": 2
   },
   "file_extension": ".py",
   "mimetype": "text/x-python",
   "name": "python",
   "nbconvert_exporter": "python",
   "pygments_lexer": "ipython2",
   "version": "2.7.6"
  }
 },
 "nbformat": 4,
 "nbformat_minor": 5
}
