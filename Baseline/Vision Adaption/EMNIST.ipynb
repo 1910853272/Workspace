{
 "cells": [
  {
   "cell_type": "code",
   "id": "9daeb4815fbba5b0",
   "metadata": {
    "ExecuteTime": {
     "end_time": "2025-06-07T12:29:31.765144Z",
     "start_time": "2025-06-07T12:28:11.805437Z"
    }
   },
   "source": [
    "import torch\n",
    "import torch.nn as nn\n",
    "import torch.utils.data as Data\n",
    "import torchvision  # 数据库模块\n",
    "import matplotlib.pyplot as plt\n",
    "# torch.manual_seed(1)  # reproducible\n",
    "EPOCH = 1  # 训练整批数据次数，训练次数越多，精度越高，为了演示，我们训练5次\n",
    "BATCH_SIZE = 50  # 每次训练的数据集个数\n",
    "LR = 0.001  # 学习效率\n",
    "DOWNLOAD_MNIST = True  # 如果你已经下载好了EMNIST数据就设置 False\n",
    "\n",
    "# EMNIST 手写字母 训练集\n",
    "train_data = torchvision.datasets.EMNIST(\n",
    "    root='./data',\n",
    "    train=True,\n",
    "    transform=torchvision.transforms.ToTensor(),\n",
    "    download = DOWNLOAD_MNIST,\n",
    "    split = 'letters'\n",
    ")\n",
    "# EMNIST 手写字母 测试集\n",
    "test_data = torchvision.datasets.EMNIST(\n",
    "    root='./data',\n",
    "    train=False,\n",
    "    transform=torchvision.transforms.ToTensor(),\n",
    "    download=False,\n",
    "    split = 'letters'\n",
    ")\n",
    "# 批训练 50samples, 1 channel, 28x28 (50, 1, 28, 28)\n",
    "train_loader = Data.DataLoader(dataset=train_data, batch_size=BATCH_SIZE, shuffle=True)\n",
    "# 每一步 loader 释放50个数据用来学习\n",
    "# 为了演示, 我们测试时提取2000个数据先\n",
    "# shape from (2000, 28, 28) to (2000, 1, 28, 28), value in range(0,1)\n",
    "test_x = torch.unsqueeze(test_data.data, dim=1).type(torch.FloatTensor)[:2000] / 255.\n",
    "test_y = test_data.targets[:2000]\n",
    "#test_x = test_x.cuda() # 若有cuda环境，取消注释\n",
    "#test_y = test_y.cuda() # 若有cuda环境，取消注释"
   ],
   "outputs": [
    {
     "name": "stdout",
     "output_type": "stream",
     "text": [
      "Downloading https://biometrics.nist.gov/cs_links/EMNIST/gzip.zip to ./data\\EMNIST\\raw\\gzip.zip\n"
     ]
    },
    {
     "name": "stderr",
     "output_type": "stream",
     "text": [
      "100%|██████████| 562M/562M [00:56<00:00, 10.0MB/s] \n"
     ]
    },
    {
     "name": "stdout",
     "output_type": "stream",
     "text": [
      "Extracting ./data\\EMNIST\\raw\\gzip.zip to ./data\\EMNIST\\raw\n"
     ]
    }
   ],
   "execution_count": 6
  },
  {
   "metadata": {
    "ExecuteTime": {
     "end_time": "2025-06-07T12:34:11.028012Z",
     "start_time": "2025-06-07T12:34:10.776626Z"
    }
   },
   "cell_type": "code",
   "source": [
    "def get_mapping(num, with_type='letters'):\n",
    "    \"\"\"\n",
    "    根据 mapping，由传入的 num 计算 UTF8 字符\n",
    "    \"\"\"\n",
    "    if with_type == 'byclass':\n",
    "        if num <= 9:\n",
    "            return chr(num + 48)  # 数字\n",
    "        elif num <= 35:\n",
    "            return chr(num + 55)  # 大写字母\n",
    "        else:\n",
    "            return chr(num + 61)  # 小写字母\n",
    "    elif with_type == 'letters':\n",
    "        return chr(num + 64) + \" / \" + chr(num + 96)  # 大写/小写字母\n",
    "    elif with_type == 'digits':\n",
    "        return chr(num + 96)\n",
    "    else:\n",
    "        return num\n",
    "\n",
    "figure = plt.figure(figsize=(8, 8))\n",
    "cols, rows = 3, 3\n",
    "for i in range(1, cols * rows + 1):\n",
    "    sample_idx = torch.randint(len(train_data), size=(1,)).item()\n",
    "    img, label = train_data[sample_idx]\n",
    "    print(label)\n",
    "    figure.add_subplot(rows, cols, i)\n",
    "    plt.title(get_mapping(label))\n",
    "    plt.axis(\"off\")\n",
    "    plt.imshow(img.squeeze(), cmap=\"gray\")\n",
    "plt.show()"
   ],
   "id": "bc6cd345a05797a6",
   "outputs": [
    {
     "name": "stdout",
     "output_type": "stream",
     "text": [
      "6\n",
      "16\n",
      "9\n",
      "16\n",
      "8\n",
      "10\n",
      "20\n",
      "25\n",
      "13\n"
     ]
    },
    {
     "data": {
      "text/plain": [
       "<Figure size 800x800 with 9 Axes>"
      ],
      "image/png": "[encoded data removed]"
     },
     "metadata": {},
     "output_type": "display_data"
    }
   ],
   "execution_count": 13
  },
  {
   "metadata": {
    "ExecuteTime": {
     "end_time": "2025-06-07T12:35:11.400148Z",
     "start_time": "2025-06-07T12:35:11.395710Z"
    }
   },
   "cell_type": "code",
   "source": [
    "# 定义神经网络\n",
    "class CNN(nn.Module):\n",
    "    def __init__(self):\n",
    "        super(CNN, self).__init__()\n",
    "        self.conv1 = nn.Sequential(  # input shape (1, 28, 28)\n",
    "            nn.Conv2d(\n",
    "                in_channels=1,  # 输入通道数\n",
    "                out_channels=16,  # 输出通道数\n",
    "                kernel_size=5,   # 卷积核大小\n",
    "                stride=1,  #卷积步数\n",
    "                padding=2,  # 如果想要 con2d 出来的图片长宽没有变化, \n",
    "                # padding=(kernel_size-1)/2 当 stride=1\n",
    "            ),  # output shape (16, 28, 28)\n",
    "            nn.ReLU(),  # activation\n",
    "            nn.MaxPool2d(kernel_size=2),  # 在 2x2 空间里向下采样, output shape (16, 14, 14)\n",
    "        )\n",
    "        self.conv2 = nn.Sequential(  # input shape (16, 14, 14)\n",
    "            nn.Conv2d(16, 32, 5, 1, 2),  # output shape (32, 14, 14)\n",
    "            nn.ReLU(),  # activation\n",
    "            nn.MaxPool2d(2),  # output shape (32, 7, 7)\n",
    "        )\n",
    "        self.out = nn.Linear(32 * 7 * 7, 37)  # 全连接层，A/Z,a/z一共37个类\n",
    "\n",
    "    def forward(self, x):\n",
    "        x = self.conv1(x)\n",
    "        x = self.conv2(x)\n",
    "        x = x.view(x.size(0), -1)  # 展平多维的卷积图成 (batch_size, 32 * 7 * 7)\n",
    "        output = self.out(x)\n",
    "        return output"
   ],
   "id": "6ec8bf794a379d34",
   "outputs": [],
   "execution_count": 14
  },
  {
   "metadata": {
    "ExecuteTime": {
     "end_time": "2025-06-07T12:35:52.977868Z",
     "start_time": "2025-06-07T12:35:22.120615Z"
    }
   },
   "cell_type": "code",
   "source": [
    "cnn = CNN() # 创建CNN\n",
    "# cnn = cnn.cuda() # 若有cuda环境，取消注释\n",
    "optimizer = torch.optim.Adam(cnn.parameters(), lr=LR)  # optimize all cnn parameters\n",
    "loss_func = nn.CrossEntropyLoss()  # the target label is not one-hotted\n",
    "for epoch in range(EPOCH):\n",
    "    for step, (b_x, b_y) in enumerate(train_loader):  # 每一步 loader 释放50个数据用来学习\n",
    "        #b_x = b_x.cuda() # 若有cuda环境，取消注释\n",
    "        #b_y = b_y.cuda() # 若有cuda环境，取消注释\n",
    "        output = cnn(b_x)  # 输入一张图片进行神经网络训练\n",
    "        loss = loss_func(output, b_y)  # 计算神经网络的预测值与实际的误差\n",
    "        optimizer.zero_grad() #将所有优化的torch.Tensors的梯度设置为零\n",
    "        loss.backward()  # 反向传播的梯度计算\n",
    "        optimizer.step()  # 执行单个优化步骤\n",
    "        if step % 50 == 0: # 我们每50步来查看一下神经网络训练的结果\n",
    "            test_output = cnn(test_x)\n",
    "            pred_y = torch.max(test_output, 1)[1].data.squeeze()\n",
    "            # 若有cuda环境，使用84行，注释82行\n",
    "            # pred_y = torch.max(test_output, 1)[1].cuda().data.squeeze()\n",
    "            accuracy = float((pred_y == test_y).sum()) / float(test_y.size(0))\n",
    "            print('Epoch: ', epoch, '| train loss: %.4f' % loss.data,\n",
    "                  '| test accuracy: %.2f' % accuracy)"
   ],
   "id": "4af0a0ef0acf4bab",
   "outputs": [
    {
     "name": "stdout",
     "output_type": "stream",
     "text": [
      "Epoch:  0 | train loss: 3.6255 | test accuracy: 0.01\n",
      "Epoch:  0 | train loss: 1.3196 | test accuracy: 0.53\n",
      "Epoch:  0 | train loss: 1.6737 | test accuracy: 0.57\n",
      "Epoch:  0 | train loss: 0.8404 | test accuracy: 0.51\n",
      "Epoch:  0 | train loss: 1.0761 | test accuracy: 0.79\n",
      "Epoch:  0 | train loss: 0.5070 | test accuracy: 0.77\n",
      "Epoch:  0 | train loss: 0.6220 | test accuracy: 0.77\n",
      "Epoch:  0 | train loss: 0.4379 | test accuracy: 0.85\n",
      "Epoch:  0 | train loss: 0.6436 | test accuracy: 0.83\n",
      "Epoch:  0 | train loss: 0.4675 | test accuracy: 0.82\n",
      "Epoch:  0 | train loss: 0.2157 | test accuracy: 0.88\n",
      "Epoch:  0 | train loss: 0.5705 | test accuracy: 0.83\n",
      "Epoch:  0 | train loss: 0.4886 | test accuracy: 0.82\n",
      "Epoch:  0 | train loss: 0.3559 | test accuracy: 0.90\n",
      "Epoch:  0 | train loss: 0.2750 | test accuracy: 0.88\n",
      "Epoch:  0 | train loss: 0.2624 | test accuracy: 0.81\n",
      "Epoch:  0 | train loss: 0.5587 | test accuracy: 0.82\n",
      "Epoch:  0 | train loss: 0.2013 | test accuracy: 0.85\n",
      "Epoch:  0 | train loss: 0.5812 | test accuracy: 0.88\n",
      "Epoch:  0 | train loss: 1.0987 | test accuracy: 0.93\n",
      "Epoch:  0 | train loss: 0.6372 | test accuracy: 0.89\n",
      "Epoch:  0 | train loss: 0.2267 | test accuracy: 0.90\n",
      "Epoch:  0 | train loss: 0.3919 | test accuracy: 0.90\n",
      "Epoch:  0 | train loss: 0.3229 | test accuracy: 0.88\n",
      "Epoch:  0 | train loss: 0.4361 | test accuracy: 0.89\n",
      "Epoch:  0 | train loss: 0.5243 | test accuracy: 0.93\n",
      "Epoch:  0 | train loss: 0.4102 | test accuracy: 0.77\n",
      "Epoch:  0 | train loss: 0.5298 | test accuracy: 0.86\n",
      "Epoch:  0 | train loss: 0.2871 | test accuracy: 0.87\n",
      "Epoch:  0 | train loss: 0.4527 | test accuracy: 0.92\n",
      "Epoch:  0 | train loss: 0.4211 | test accuracy: 0.93\n",
      "Epoch:  0 | train loss: 0.1816 | test accuracy: 0.89\n",
      "Epoch:  0 | train loss: 0.2348 | test accuracy: 0.93\n",
      "Epoch:  0 | train loss: 0.1623 | test accuracy: 0.92\n",
      "Epoch:  0 | train loss: 0.2798 | test accuracy: 0.93\n",
      "Epoch:  0 | train loss: 0.2817 | test accuracy: 0.90\n",
      "Epoch:  0 | train loss: 0.2783 | test accuracy: 0.91\n",
      "Epoch:  0 | train loss: 0.2420 | test accuracy: 0.91\n",
      "Epoch:  0 | train loss: 0.2584 | test accuracy: 0.94\n",
      "Epoch:  0 | train loss: 0.3579 | test accuracy: 0.91\n",
      "Epoch:  0 | train loss: 0.1861 | test accuracy: 0.93\n",
      "Epoch:  0 | train loss: 0.2230 | test accuracy: 0.93\n",
      "Epoch:  0 | train loss: 0.2249 | test accuracy: 0.90\n",
      "Epoch:  0 | train loss: 0.2537 | test accuracy: 0.95\n",
      "Epoch:  0 | train loss: 0.2177 | test accuracy: 0.94\n",
      "Epoch:  0 | train loss: 0.3762 | test accuracy: 0.91\n",
      "Epoch:  0 | train loss: 0.3030 | test accuracy: 0.92\n",
      "Epoch:  0 | train loss: 0.1314 | test accuracy: 0.93\n",
      "Epoch:  0 | train loss: 0.1934 | test accuracy: 0.93\n",
      "Epoch:  0 | train loss: 0.1968 | test accuracy: 0.93\n"
     ]
    }
   ],
   "execution_count": 15
  },
  {
   "metadata": {
    "ExecuteTime": {
     "end_time": "2025-06-07T12:37:01.260396Z",
     "start_time": "2025-06-07T12:37:01.251778Z"
    }
   },
   "cell_type": "code",
   "source": [
    "# test 神经网络\n",
    "test_output = cnn(test_x[:10])\n",
    "pred_y = torch.max(test_output, 1)[1].data.squeeze()\n",
    "# 若有cuda环境，使用92行，注释90行\n",
    "#pred_y = torch.max(test_output, 1)[1].cuda().data.squeeze()\n",
    "print(pred_y, 'prediction number')\n",
    "print(test_y[:10], 'real number')\n",
    "# save CNN\n",
    "# 仅保存CNN参数，速度较快\n",
    "# torch.save(cnn.state_dict(), './model/CNN_letter.pk')\n",
    "# 保存CNN整个结构\n",
    "#torch.save(cnn(), './model/CNN.pkl')"
   ],
   "id": "ae939992c0af8859",
   "outputs": [
    {
     "name": "stdout",
     "output_type": "stream",
     "text": [
      "tensor([1, 1, 1, 1, 1, 1, 1, 1, 1, 1]) prediction number\n",
      "tensor([1, 1, 1, 1, 1, 1, 1, 1, 1, 1]) real number\n"
     ]
    }
   ],
   "execution_count": 17
  },
  {
   "metadata": {},
   "cell_type": "code",
   "outputs": [],
   "execution_count": null,
   "source": "",
   "id": "7ed62b7f86c3ca6"
  },
  {
   "metadata": {},
   "cell_type": "code",
   "outputs": [],
   "execution_count": null,
   "source": "",
   "id": "982ef01358f3b075"
  },
  {
   "metadata": {},
   "cell_type": "code",
   "outputs": [],
   "execution_count": null,
   "source": "",
   "id": "7f32f1b8568f4108"
  },
  {
   "metadata": {},
   "cell_type": "code",
   "outputs": [],
   "execution_count": null,
   "source": "",
   "id": "45b22fbb1cd34832"
  }
 ],
 "metadata": {
  "kernelspec": {
   "display_name": "Python 3 (ipykernel)",
   "language": "python",
   "name": "python3"
  },
  "language_info": {
   "codemirror_mode": {
    "name": "ipython",
    "version": 3
   },
   "file_extension": ".py",
   "mimetype": "text/x-python",
   "name": "python",
   "nbconvert_exporter": "python",
   "pygments_lexer": "ipython3",
   "version": "3.11.7"
  }
 },
 "nbformat": 4,
 "nbformat_minor": 5
}
