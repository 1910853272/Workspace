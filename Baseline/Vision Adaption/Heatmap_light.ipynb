{
 "cells": [
  {
   "metadata": {},
   "cell_type": "markdown",
   "source": "# 使矩阵数值从324.35, 284.14, 245.15, 226.97, 196.1 对应从'#2B7BBA', '#6BA3CF', '#ABCBE4', '#1D2227','#000000'的颜色变化，热图颜色最深处为324.35 对应的#2B7BBA颜色，最浅为196.1对应的#252C31",
   "id": "295cbcefd1558d26"
  },
  {
   "metadata": {},
   "cell_type": "code",
   "outputs": [],
   "execution_count": null,
   "source": "",
   "id": "4fa1ed2db238ac03"
  },
  {
   "metadata": {
    "ExecuteTime": {
     "end_time": "2025-06-11T07:40:31.960906Z",
     "start_time": "2025-06-11T07:40:31.835085Z"
    }
   },
   "cell_type": "code",
   "source": [
    "import numpy as np\n",
    "import matplotlib.pyplot as plt\n",
    "from matplotlib.colors import LinearSegmentedColormap, Normalize\n",
    "\n",
    "# 你的数据（全是324.35效果相同，实际可替换）\n",
    "letter_U = np.array([\n",
    "    [324.35, 324.35, 324.35, 324.35, 324.35, 324.35, 324.35, 324.35],\n",
    "    [324.35, 324.35, 324.35, 324.35, 324.35, 324.35, 324.35, 324.35],\n",
    "    [324.35, 324.35, 324.35, 324.35, 324.35, 324.35, 324.35, 324.35],\n",
    "    [324.35, 324.35, 324.35, 324.35, 324.35, 324.35, 324.35, 324.35],\n",
    "    [324.35, 324.35, 324.35, 324.35, 324.35, 324.35, 324.35, 324.35],\n",
    "    [324.35, 324.35, 324.35, 324.35, 324.35, 324.35, 324.35, 324.35],\n",
    "    [324.35, 324.35, 324.35, 324.35, 324.35, 324.35, 324.35, 324.35],\n",
    "    [324.35, 324.35, 324.35, 324.35, 324.35, 324.35, 324.35, 324.35]\n",
    "])\n",
    "\n",
    "# 数值和颜色（高到低）\n",
    "values = np.array([324.35, 284.14, 245.15, 226.97, 196.1])\n",
    "colors = ['#252C31', '#1D2227', '#ABCBE4', '#6BA3CF', '#2B7BBA']\n",
    "\n",
    "# 归一化（0到1递增，和数据、颜色顺序匹配）\n",
    "normed_values = np.linspace(0, 1, len(values))\n",
    "cmap = LinearSegmentedColormap.from_list(\"custom\", list(zip(normed_values, colors)))\n",
    "\n",
    "# Normalize，最大值为深色，最小值为黑色\n",
    "norm = Normalize(vmin=196.1, vmax=324.35)\n",
    "\n",
    "# 画图\n",
    "plt.figure(figsize=(4,4))\n",
    "im = plt.imshow(letter_U, cmap=cmap, norm=norm, interpolation='nearest')\n",
    "plt.axis('off')\n",
    "plt.colorbar(im, label='$I_b$ ($\\mu A$)')\n",
    "plt.savefig('a.png', bbox_inches='tight', dpi=300)\n",
    "plt.show()\n"
   ],
   "id": "b7a1be1e01b2a1f",
   "outputs": [
    {
     "data": {
      "text/plain": [
       "<Figure size 400x400 with 2 Axes>"
      ],
      "image/png": "[encoded data removed]"
     },
     "metadata": {},
     "output_type": "display_data"
    }
   ],
   "execution_count": 49
  },
  {
   "metadata": {},
   "cell_type": "code",
   "outputs": [],
   "execution_count": null,
   "source": "",
   "id": "9fedf196ab2d1427"
  },
  {
   "metadata": {
    "ExecuteTime": {
     "end_time": "2025-06-11T07:25:06.394381Z",
     "start_time": "2025-06-11T07:25:06.271799Z"
    }
   },
   "cell_type": "code",
   "source": [
    "import numpy as np\n",
    "import matplotlib.pyplot as plt\n",
    "from matplotlib.colors import LinearSegmentedColormap, Normalize\n",
    "\n",
    "# 你的数据（全是324.35效果相同，实际可替换）\n",
    "letter_U = np.array([\n",
    "    [281.54, 285.34, 294.82, 291.68, 285.30, 294.00, 284.60, 276.25],\n",
    "    [299.80, 324.35, 266.84, 283.18, 288.00, 259.52, 324.35, 284.35],\n",
    "    [286.48, 324.35, 284.35, 287.01, 279.14, 290.60, 324.35, 290.17],\n",
    "    [287.46, 324.35, 278.59, 278.76, 287.07, 284.16, 324.35, 284.17],\n",
    "    [280.21, 324.35, 286.70, 286.02, 286.87, 275.31, 324.35, 284.34],\n",
    "    [304.18, 324.35, 285.39, 286.85, 279.20, 274.92, 324.35, 274.14],\n",
    "    [278.85, 324.35, 324.35, 324.35, 324.35, 324.35, 324.35, 270.09],\n",
    "    [280.52, 281.20, 277.12, 286.34, 279.01, 290.62, 290.51, 285.10],\n",
    "])\n",
    "\n",
    "# 数值和颜色（高到低）\n",
    "values = np.array([324.35, 284.14, 245.15, 226.97, 196.1])\n",
    "colors = ['#252C31', '#1D2227', '#ABCBE4', '#6BA3CF', '#2B7BBA']\n",
    "\n",
    "# 归一化（0到1递增，和数据、颜色顺序匹配）\n",
    "normed_values = np.linspace(0, 1, len(values))\n",
    "cmap = LinearSegmentedColormap.from_list(\"custom\", list(zip(normed_values, colors)))\n",
    "\n",
    "# Normalize，最大值为深色，最小值为黑色\n",
    "norm = Normalize(vmin=196.1, vmax=324.35)\n",
    "\n",
    "# 画图\n",
    "plt.figure(figsize=(4,4))\n",
    "im = plt.imshow(letter_U, cmap=cmap, norm=norm, interpolation='nearest')\n",
    "plt.axis('off')\n",
    "plt.colorbar(im, label='$I_b$ ($\\mu A$)')\n",
    "plt.savefig('b.png', bbox_inches='tight', dpi=300)\n",
    "plt.show()\n"
   ],
   "id": "c24fbf989a08bfdf",
   "outputs": [
    {
     "data": {
      "text/plain": [
       "<Figure size 400x400 with 2 Axes>"
      ],
      "image/png": "[encoded data removed]"
     },
     "metadata": {},
     "output_type": "display_data"
    }
   ],
   "execution_count": 19
  },
  {
   "metadata": {},
   "cell_type": "code",
   "outputs": [],
   "execution_count": null,
   "source": "",
   "id": "e6fd923c7efc1ffe"
  },
  {
   "metadata": {},
   "cell_type": "code",
   "outputs": [],
   "execution_count": null,
   "source": "",
   "id": "c9b1c9dac1ac13b8"
  },
  {
   "metadata": {},
   "cell_type": "markdown",
   "source": "# 将矩阵中除了324.35的数字，全部用高斯函数添加噪声，返回结果矩阵",
   "id": "68ecbd65c9e0c81c"
  },
  {
   "metadata": {
    "ExecuteTime": {
     "end_time": "2025-06-11T07:35:44.009288Z",
     "start_time": "2025-06-11T07:35:44.002491Z"
    }
   },
   "cell_type": "code",
   "source": [
    "import numpy as np\n",
    "\n",
    "# 原始矩阵\n",
    "letter_U = np.array([\n",
    "    [324.35, 324.35, 324.35, 324.35, 324.35, 324.35, 324.35, 324.35],\n",
    "    [324.35, 324.35, 324.35, 324.35, 324.35, 324.35, 324.35, 324.35],\n",
    "    [324.35, 324.35, 324.35, 324.35, 324.35, 324.35, 324.35, 324.35],\n",
    "    [324.35, 324.35, 324.35, 324.35, 324.35, 324.35, 324.35, 324.35],\n",
    "    [324.35, 324.35, 324.35, 324.35, 324.35, 324.35, 324.35, 324.35],\n",
    "    [324.35, 324.35, 324.35, 324.35, 324.35, 324.35, 324.35, 324.35],\n",
    "    [324.35, 324.35, 324.35, 324.35, 324.35, 324.35, 324.35, 324.35],\n",
    "    [324.35, 324.35, 324.35, 324.35, 324.35, 324.35, 324.35, 324.35]\n",
    "])\n",
    "# 设置高斯噪声参数\n",
    "mu = 0     # 均值\n",
    "sigma = 2  # 标准差\n",
    "\n",
    "# 生成mask和噪声\n",
    "mask = letter_U != 1\n",
    "noise = np.random.normal(mu, sigma, size=letter_U.shape)\n",
    "\n",
    "# 只对不是324.35的位置加噪声\n",
    "noisy_letter_U = letter_U + noise * mask\n",
    "\n",
    "# 打印结果\n",
    "print(\"noisy_letter_U = np.array([\")\n",
    "for row in noisy_letter_U:\n",
    "    print(\"    [\" + \", \".join(f\"{v:.2f}\" for v in row) + \"],\")\n",
    "print(\"])\")\n"
   ],
   "id": "877ac0679c2f4b54",
   "outputs": [
    {
     "name": "stdout",
     "output_type": "stream",
     "text": [
      "noisy_letter_U = np.array([\n",
      "    [323.59, 328.34, 325.69, 325.11, 323.09, 322.95, 323.16, 326.33],\n",
      "    [323.33, 322.88, 324.81, 321.01, 322.87, 327.43, 322.84, 326.36],\n",
      "    [320.92, 324.48, 323.19, 326.70, 324.70, 324.18, 324.18, 325.74],\n",
      "    [327.47, 320.58, 325.03, 322.90, 322.64, 322.05, 326.05, 323.90],\n",
      "    [321.69, 322.26, 327.68, 323.54, 326.76, 327.44, 323.27, 329.08],\n",
      "    [319.07, 323.11, 321.79, 323.84, 326.25, 320.51, 325.30, 324.85],\n",
      "    [328.68, 321.98, 326.35, 322.04, 322.86, 328.82, 323.92, 323.95],\n",
      "    [323.76, 323.91, 326.84, 323.87, 322.73, 323.78, 326.61, 324.53],\n",
      "])\n"
     ]
    }
   ],
   "execution_count": 43
  },
  {
   "metadata": {},
   "cell_type": "code",
   "outputs": [],
   "execution_count": null,
   "source": "",
   "id": "45ab364ed95c2b4d"
  },
  {
   "metadata": {
    "ExecuteTime": {
     "end_time": "2025-06-11T07:30:03.370611Z",
     "start_time": "2025-06-11T07:30:03.245555Z"
    }
   },
   "cell_type": "code",
   "source": [
    "import numpy as np\n",
    "import matplotlib.pyplot as plt\n",
    "from matplotlib.colors import LinearSegmentedColormap, Normalize\n",
    "\n",
    "# 你的数据（全是324.35效果相同，实际可替换）\n",
    "letter_U = np.array([\n",
    "    [246.14, 249.68, 245.40, 241.71, 242.96, 247.05, 251.30, 248.68],\n",
    "    [253.59, 324.35, 239.72, 246.84, 241.95, 245.13, 324.35, 242.28],\n",
    "    [252.72, 324.35, 239.71, 240.62, 241.52, 246.40, 324.35, 239.07],\n",
    "    [246.03, 324.35, 248.23, 241.92, 241.61, 250.80, 324.35, 244.03],\n",
    "    [245.92, 324.35, 242.24, 241.87, 245.05, 239.02, 324.35, 236.26],\n",
    "    [257.36, 324.35, 241.27, 251.43, 242.59, 251.93, 324.35, 241.68],\n",
    "    [244.19, 324.35, 324.35, 324.35, 324.35, 324.35, 324.35, 237.37],\n",
    "    [244.66, 241.87, 243.48, 238.23, 242.54, 247.74, 248.88, 247.29],\n",
    "])\n",
    "\n",
    "# 数值和颜色（高到低）\n",
    "values = np.array([324.35, 284.14, 245.15, 226.97, 196.1])\n",
    "colors = ['#252C31', '#1D2227', '#ABCBE4', '#6BA3CF', '#2B7BBA']\n",
    "\n",
    "# 归一化（0到1递增，和数据、颜色顺序匹配）\n",
    "normed_values = np.linspace(0, 1, len(values))\n",
    "cmap = LinearSegmentedColormap.from_list(\"custom\", list(zip(normed_values, colors)))\n",
    "\n",
    "# Normalize，最大值为深色，最小值为黑色\n",
    "norm = Normalize(vmin=196.1, vmax=324.35)\n",
    "\n",
    "# 画图\n",
    "plt.figure(figsize=(4,4))\n",
    "im = plt.imshow(letter_U, cmap=cmap, norm=norm, interpolation='nearest')\n",
    "plt.axis('off')\n",
    "plt.colorbar(im, label='$I_b$ ($\\mu A$)')\n",
    "plt.savefig('c.png', bbox_inches='tight', dpi=300)\n",
    "plt.show()\n"
   ],
   "id": "37a3a072c0d08306",
   "outputs": [
    {
     "data": {
      "text/plain": [
       "<Figure size 400x400 with 2 Axes>"
      ],
      "image/png": "[encoded data removed]"
     },
     "metadata": {},
     "output_type": "display_data"
    }
   ],
   "execution_count": 31
  },
  {
   "metadata": {},
   "cell_type": "code",
   "outputs": [],
   "execution_count": null,
   "source": "",
   "id": "4d6da4ba1447c4d"
  },
  {
   "metadata": {
    "ExecuteTime": {
     "end_time": "2025-06-11T07:32:32.647953Z",
     "start_time": "2025-06-11T07:32:32.518660Z"
    }
   },
   "cell_type": "code",
   "source": [
    "import numpy as np\n",
    "import matplotlib.pyplot as plt\n",
    "from matplotlib.colors import LinearSegmentedColormap, Normalize\n",
    "\n",
    "# 你的数据（全是324.35效果相同，实际可替换）\n",
    "letter_U = np.array([\n",
    "    [231.32, 227.70, 230.78, 225.19, 227.03, 232.61, 232.04, 235.46],\n",
    "    [233.30, 324.35, 232.78, 224.60, 231.37, 234.73, 324.35, 234.33],\n",
    "    [238.64, 324.35, 234.45, 225.60, 226.66, 230.25, 324.35, 231.02],\n",
    "    [226.02, 324.35, 221.03, 224.36, 223.54, 222.57, 324.35, 224.30],\n",
    "    [224.51, 324.35, 222.16, 215.28, 224.67, 223.82, 324.35, 221.64],\n",
    "    [237.90, 324.35, 227.75, 227.94, 231.70, 233.00, 324.35, 236.47],\n",
    "    [228.35, 324.35, 324.35, 324.35, 324.35, 324.35, 324.35, 229.36],\n",
    "    [230.01, 226.38, 230.92, 223.31, 224.01, 228.21, 229.48, 230.80],\n",
    "])\n",
    "\n",
    "# 数值和颜色（高到低）\n",
    "values = np.array([324.35, 284.14, 245.15, 226.97, 196.1])\n",
    "colors = ['#000000', '#1D2227', '#ABCBE4', '#6BA3CF', '#2B7BBA']\n",
    "\n",
    "# 归一化（0到1递增，和数据、颜色顺序匹配）\n",
    "normed_values = np.linspace(0, 1, len(values))\n",
    "cmap = LinearSegmentedColormap.from_list(\"custom\", list(zip(normed_values, colors)))\n",
    "\n",
    "# Normalize，最大值为深色，最小值为黑色\n",
    "norm = Normalize(vmin=196.1, vmax=324.35)\n",
    "\n",
    "# 画图\n",
    "plt.figure(figsize=(4,4))\n",
    "im = plt.imshow(letter_U, cmap=cmap, norm=norm, interpolation='nearest')\n",
    "plt.axis('off')\n",
    "plt.colorbar(im, label='$I_b$ ($\\mu A$)')\n",
    "plt.savefig('d.png', bbox_inches='tight', dpi=300)\n",
    "plt.show()\n"
   ],
   "id": "234c573b4bbaba5e",
   "outputs": [
    {
     "data": {
      "text/plain": [
       "<Figure size 400x400 with 2 Axes>"
      ],
      "image/png": "[encoded data removed]"
     },
     "metadata": {},
     "output_type": "display_data"
    }
   ],
   "execution_count": 36
  },
  {
   "metadata": {},
   "cell_type": "code",
   "outputs": [],
   "execution_count": null,
   "source": "",
   "id": "f06d88d893fd76f6"
  },
  {
   "metadata": {
    "ExecuteTime": {
     "end_time": "2025-06-11T07:33:46.110560Z",
     "start_time": "2025-06-11T07:33:45.987121Z"
    }
   },
   "cell_type": "code",
   "source": [
    "import numpy as np\n",
    "import matplotlib.pyplot as plt\n",
    "from matplotlib.colors import LinearSegmentedColormap, Normalize\n",
    "\n",
    "# 你的数据（全是324.35效果相同，实际可替换）\n",
    "letter_U = np.array([\n",
    "    [186.67, 190.87, 211.97, 220.79, 214.03, 213.55, 181.18, 200.05],\n",
    "    [232.45, 324.35, 218.64, 197.81, 151.79, 184.53, 324.35, 201.72],\n",
    "    [203.89, 324.35, 192.19, 226.50, 214.63, 202.18, 324.35, 201.55],\n",
    "    [181.02, 324.35, 204.34, 208.00, 209.15, 182.03, 324.35, 197.42],\n",
    "    [214.71, 324.35, 210.27, 192.12, 161.00, 194.50, 324.35, 196.08],\n",
    "    [199.41, 324.35, 196.92, 210.36, 199.30, 185.62, 324.35, 219.17],\n",
    "    [189.03, 324.35, 324.35, 324.35, 324.35, 324.35, 324.35, 216.16],\n",
    "    [201.17, 189.58, 219.61, 200.49, 188.81, 223.46, 217.09, 194.45],\n",
    "])\n",
    "# 数值和颜色（高到低）\n",
    "values = np.array([324.35, 284.14, 245.15, 226.97, 196.1])\n",
    "colors = ['#000000', '#1D2227', '#ABCBE4', '#6BA3CF', '#2B7BBA']\n",
    "\n",
    "# 归一化（0到1递增，和数据、颜色顺序匹配）\n",
    "normed_values = np.linspace(0, 1, len(values))\n",
    "cmap = LinearSegmentedColormap.from_list(\"custom\", list(zip(normed_values, colors)))\n",
    "\n",
    "# Normalize，最大值为深色，最小值为黑色\n",
    "norm = Normalize(vmin=196.1, vmax=324.35)\n",
    "\n",
    "# 画图\n",
    "plt.figure(figsize=(4,4))\n",
    "im = plt.imshow(letter_U, cmap=cmap, norm=norm, interpolation='nearest')\n",
    "plt.axis('off')\n",
    "plt.colorbar(im, label='$I_b$ ($\\mu A$)')\n",
    "plt.savefig('e.png', bbox_inches='tight', dpi=300)\n",
    "plt.show()\n"
   ],
   "id": "812902cb3c06349f",
   "outputs": [
    {
     "data": {
      "text/plain": [
       "<Figure size 400x400 with 2 Axes>"
      ],
      "image/png": "[encoded data removed]"
     },
     "metadata": {},
     "output_type": "display_data"
    }
   ],
   "execution_count": 40
  },
  {
   "metadata": {},
   "cell_type": "code",
   "outputs": [],
   "execution_count": null,
   "source": "",
   "id": "b116d691954da2b1"
  },
  {
   "metadata": {},
   "cell_type": "code",
   "outputs": [],
   "execution_count": null,
   "source": "",
   "id": "d32ab6ccc5ba1cf6"
  },
  {
   "metadata": {
    "ExecuteTime": {
     "end_time": "2025-06-09T08:09:52.729570Z",
     "start_time": "2025-06-09T08:09:52.592956Z"
    }
   },
   "cell_type": "code",
   "source": [
    "import numpy as np\n",
    "import matplotlib.pyplot as plt\n",
    "from matplotlib.colors import LinearSegmentedColormap, Normalize\n",
    "\n",
    "# 你的数据（全是324.35效果相同，实际可替换）\n",
    "letter_U = np.array([\n",
    "    [196.1, 196.1, 196.1, 196.1, 196.1, 196.1, 196.1, 196.1],\n",
    "    [196.1, 324.35, 196.1, 196.1, 196.1, 196.1, 324.35, 196.1],\n",
    "    [196.1, 324.35, 196.1, 196.1, 196.1, 196.1, 324.35, 196.1],\n",
    "    [196.1, 324.35, 196.1, 196.1, 196.1, 196.1, 324.35, 196.1],\n",
    "    [196.1, 324.35, 196.1, 196.1, 196.1, 196.1, 324.35, 196.1],\n",
    "    [196.1, 324.35, 196.1, 196.1, 196.1, 196.1, 324.35, 196.1],\n",
    "    [196.1, 324.35, 324.35, 324.35, 324.35, 324.35, 324.35, 196.1],\n",
    "    [196.1, 196.1, 196.1, 196.1, 196.1, 196.1, 196.1, 196.1],\n",
    "])\n",
    "\n",
    "# 数值和颜色（高到低）\n",
    "values = np.array([324.35, 284.14, 245.15, 226.97, 196.1])\n",
    "colors = ['#252C31', '#1D2227', '#ABCBE4', '#6BA3CF', '#2B7BBA']\n",
    "\n",
    "# 归一化（0到1递增，和数据、颜色顺序匹配）\n",
    "normed_values = np.linspace(0, 1, len(values))\n",
    "cmap = LinearSegmentedColormap.from_list(\"custom\", list(zip(normed_values, colors)))\n",
    "\n",
    "# Normalize，最大值为#2B7BBA，最小值为#252C31\n",
    "norm = Normalize(vmin=196.1, vmax=324.35)\n",
    "\n",
    "# 画图\n",
    "plt.figure(figsize=(4,4))\n",
    "im = plt.imshow(letter_U, cmap=cmap, norm=norm, interpolation='nearest')\n",
    "plt.axis('off')\n",
    "plt.colorbar(im, label='$I_b$ ($\\mu A$)')\n",
    "plt.savefig('b.png', bbox_inches='tight', dpi=300)\n",
    "plt.show()\n",
    "\n"
   ],
   "id": "740053879203d0a",
   "outputs": [
    {
     "data": {
      "text/plain": [
       "<Figure size 400x400 with 2 Axes>"
      ],
      "image/png": "[encoded data removed]"
     },
     "metadata": {},
     "output_type": "display_data"
    }
   ],
   "execution_count": 115
  },
  {
   "metadata": {},
   "cell_type": "code",
   "outputs": [],
   "execution_count": null,
   "source": "",
   "id": "84539c80e73ce734"
  },
  {
   "metadata": {},
   "cell_type": "code",
   "outputs": [],
   "execution_count": null,
   "source": "",
   "id": "3ce5246439282f3b"
  },
  {
   "metadata": {},
   "cell_type": "code",
   "outputs": [],
   "execution_count": null,
   "source": "",
   "id": "13e8daa5d1764ff3"
  }
 ],
 "metadata": {
  "kernelspec": {
   "display_name": "Python 3",
   "language": "python",
   "name": "python3"
  },
  "language_info": {
   "codemirror_mode": {
    "name": "ipython",
    "version": 2
   },
   "file_extension": ".py",
   "mimetype": "text/x-python",
   "name": "python",
   "nbconvert_exporter": "python",
   "pygments_lexer": "ipython2",
   "version": "2.7.6"
  }
 },
 "nbformat": 4,
 "nbformat_minor": 5
}
