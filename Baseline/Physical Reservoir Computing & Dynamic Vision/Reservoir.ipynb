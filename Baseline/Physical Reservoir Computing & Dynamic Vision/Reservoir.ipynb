{
 "cells": [
  {
   "metadata": {},
   "cell_type": "markdown",
   "source": [
    "# 储池计算弛豫特性建模\n",
    "\n",
    "## 1. 生物启发材料内储池计算的模型\n",
    "\n",
    "在水库计算（RC）系统中，**非线性**和**短期记忆**是水库节点的关键特性。在生物启发的材料内部水库计算中，基于电双层（EDL）耦合的IGZO光电子晶体管的**PPC效应**提供了这些关键特性。通过使用弛豫曲线作为激活函数，可以模拟器件对光刺激的响应。\n",
    "\n",
    "## 2. 弛豫过程模拟\n",
    "\n",
    "使用 **拉伸指数衰减（stretched-exponential decay）** 来模拟光刺激后的弛豫过程。公式（S1）给出了该过程的数学表达式：\n",
    "\n",
    "$$\n",
    "\\Delta I_{DS} = \\kappa \\cdot \\exp\\left[-\\left(\\frac{t}{\\tau}\\right)^\\beta \\right]\n",
    "$$\n",
    "\n",
    "其中，$\\kappa$代表由光刺激引起的电流变化，$\\tau$是弛豫时间常数，$\\beta$是拉伸指数。\n",
    "\n",
    "## 3. 光脉冲序列响应\n",
    "\n",
    "当施加光脉冲序列时，器件的响应是累积的。每个脉冲的响应是基于光刺激和之前时刻的弛豫电流的叠加。\n",
    "\n",
    "- 公式（S2）展示了**第一个脉冲**在时间点$t_1$作用时的器件响应：\n",
    "\n",
    "$$\n",
    "\\Delta I_{DS} = \\begin{cases}\n",
    "0, & t_n < t_1 \\\\\n",
    "\\kappa \\cdot \\exp\\left[-\\left(\\frac{(t_n - t_1) \\cdot T}{\\tau}\\right)^\\beta \\right], & t_n \\geq t_1\n",
    "\\end{cases}\n",
    "$$\n",
    "\n",
    "其中，$T$是时间步的持续时间。\n",
    "\n",
    "- 公式（S3）展示了**第二个脉冲**在时间点$t_2$（$t_2 > t_1$）施加时的器件响应：\n",
    "\n",
    "$$\n",
    "\\Delta I_{DS} = \\kappa \\cdot \\exp\\left[-\\left(\\frac{(t_n - t_2) \\cdot T}{\\tau}\\right)^\\beta \\right] \\quad \\text{for} \\quad t_n \\geq t_2\n",
    "$$\n",
    "\n",
    "- 公式（S4）表示了**两个脉冲**在连续施加时的响应积累：\n",
    "\n",
    "$$\n",
    "\\Delta I_{DS} =\n",
    "\\begin{cases}\n",
    "0, & t_n < t_1 \\\\\n",
    "\\kappa \\cdot \\exp\\left[-\\left(\\frac{(t_n - t_1) \\cdot T}{\\tau}\\right)^\\beta \\right], & t_1 \\leq t_n < t_2 \\\\\n",
    "\\kappa \\cdot \\exp\\left[-\\left(\\frac{(t_n - t_1) \\cdot T}{\\tau}\\right)^\\beta \\right] + \\kappa \\cdot \\exp\\left[-\\left(\\frac{(t_n - t_2) \\cdot T}{\\tau}\\right)^\\beta \\right], & t_n \\geq t_2\n",
    "\\end{cases}\n",
    "$$\n",
    "\n",
    "## 4. 器件对连续光脉冲序列的响应\n",
    "\n",
    "器件的响应来自于不同时间点光脉冲响应的累积。每个时间步的响应电流不仅依赖于当前的刺激，还依赖于过去时刻的弛豫电流。\n",
    "\n",
    "最终，输出电流（$I_{DS}$）是当前光脉冲引起的电流变化（$\\Delta I_{DS}$）和静态状态电流（$I_0$）的总和：\n",
    "\n",
    "$$\n",
    "I_{DS} = \\Delta I_{DS} + I_0\n",
    "$$\n",
    "\n",
    "质子弛豫动力学也可以使非线性得到增强，从而优化计算结果。\n",
    "\n",
    "## 5. 不同电压下的弛豫过程\n",
    "\n",
    "弛豫过程在不同的电压调节下表现不同，相关的弛豫参数会有所变化（如补充图17和补充表1所示）。\n"
   ],
   "id": "2707ce37481e8b0f"
  },
  {
   "metadata": {},
   "cell_type": "markdown",
   "source": [
    "# 26个字母数据集\n",
    "使矩阵数值1,0分别代表'#2B7BBA', '#FFFFFF'色，热图颜色最深处为1对应的#2B7BBA颜色，最浅为0对应的'#FFFFF'"
   ],
   "id": "210ec09bb85929b2"
  },
  {
   "metadata": {},
   "cell_type": "code",
   "outputs": [],
   "execution_count": null,
   "source": "",
   "id": "8ab81bc804f5e301"
  },
  {
   "metadata": {
    "ExecuteTime": {
     "end_time": "2025-06-17T08:16:45.348469Z",
     "start_time": "2025-06-17T08:16:43.961570Z"
    }
   },
   "cell_type": "code",
   "source": [
    "import numpy as np\n",
    "import matplotlib.pyplot as plt\n",
    "import matplotlib.colors as mcolors\n",
    "\n",
    "# 定义字母矩阵\n",
    "letter_A = np.array([\n",
    "    [0, 0, 1, 0, 0],\n",
    "    [0, 1, 0, 1, 0],\n",
    "    [1, 0, 0, 0, 1],\n",
    "    [1, 1, 1, 1, 1],\n",
    "    [1, 0, 0, 0, 1]\n",
    "])\n",
    "\n",
    "letter_B = np.array([\n",
    "    [1, 1, 1, 1, 0],\n",
    "    [1, 0, 0, 0, 1],\n",
    "    [1, 1, 1, 1, 0],\n",
    "    [1, 0, 0, 0, 1],\n",
    "    [1, 1, 1, 1, 0]\n",
    "])\n",
    "\n",
    "letter_C = np.array([\n",
    "    [1, 1, 1, 1, 1],\n",
    "    [1, 0, 0, 0, 0],\n",
    "    [1, 0, 0, 0, 0],\n",
    "    [1, 0, 0, 0, 0],\n",
    "    [1, 1, 1, 1, 1]\n",
    "])\n",
    "\n",
    "letter_D = np.array([\n",
    "    [1, 1, 1, 1, 0],\n",
    "    [1, 0, 0, 0, 1],\n",
    "    [1, 0, 0, 0, 1],\n",
    "    [1, 0, 0, 0, 1],\n",
    "    [1, 1, 1, 1, 0]\n",
    "])\n",
    "\n",
    "letter_E = np.array([\n",
    "    [1, 1, 1, 1, 1],\n",
    "    [1, 0, 0, 0, 0],\n",
    "    [1, 1, 1, 1, 1],\n",
    "    [1, 0, 0, 0, 0],\n",
    "    [1, 1, 1, 1, 1]\n",
    "])\n",
    "\n",
    "letter_F = np.array([\n",
    "    [1, 1, 1, 1, 1],\n",
    "    [1, 0, 0, 0, 0],\n",
    "    [1, 1, 1, 1, 1],\n",
    "    [1, 0, 0, 0, 0],\n",
    "    [1, 0, 0, 0, 0]\n",
    "])\n",
    "\n",
    "letter_G = np.array([\n",
    "    [0, 1, 1, 1, 0],\n",
    "    [1, 0, 0, 0, 0],\n",
    "    [1, 0, 1, 1, 1],\n",
    "    [1, 0, 0, 0, 1],\n",
    "    [0, 1, 1, 1, 1]\n",
    "])\n",
    "\n",
    "letter_H = np.array([\n",
    "    [1, 0, 0, 0, 1],\n",
    "    [1, 0, 0, 0, 1],\n",
    "    [1, 1, 1, 1, 1],\n",
    "    [1, 0, 0, 0, 1],\n",
    "    [1, 0, 0, 0, 1]\n",
    "])\n",
    "\n",
    "letter_I = np.array([\n",
    "    [0, 1, 1, 1, 0],\n",
    "    [0, 0, 1, 0, 0],\n",
    "    [0, 0, 1, 0, 0],\n",
    "    [0, 0, 1, 0, 0],\n",
    "    [0, 1, 1, 1, 0]\n",
    "])\n",
    "\n",
    "letter_J = np.array([\n",
    "    [0, 1, 1, 1, 0],\n",
    "    [0, 0, 1, 0, 0],\n",
    "    [0, 0, 1, 0, 0],\n",
    "    [1, 0, 1, 0, 0],\n",
    "    [1, 1, 1, 0, 0]\n",
    "])\n",
    "\n",
    "letter_K = np.array([\n",
    "    [1, 0, 0, 1, 0],\n",
    "    [1, 0, 1, 0, 0],\n",
    "    [1, 1, 0, 0, 0],\n",
    "    [1, 0, 1, 0, 0],\n",
    "    [1, 0, 0, 1, 0]\n",
    "])\n",
    "\n",
    "letter_L = np.array([\n",
    "    [0, 1, 0, 0, 0],\n",
    "    [0, 1, 0, 0, 0],\n",
    "    [0, 1, 0, 0, 0],\n",
    "    [0, 1, 0, 0, 0],\n",
    "    [0, 1, 1, 1, 1]\n",
    "])\n",
    "\n",
    "letter_M = np.array([\n",
    "    [1, 0, 0, 0, 1],\n",
    "    [1, 1, 0, 1, 1],\n",
    "    [1, 0, 1, 0, 1],\n",
    "    [1, 0, 0, 0, 1],\n",
    "    [1, 0, 0, 0, 1]\n",
    "])\n",
    "\n",
    "letter_N = np.array([\n",
    "    [1, 0, 0, 0, 1],\n",
    "    [1, 1, 0, 0, 1],\n",
    "    [1, 0, 1, 0, 1],\n",
    "    [1, 0, 0, 1, 1],\n",
    "    [1, 0, 0, 0, 1]\n",
    "])\n",
    "\n",
    "letter_O = np.array([\n",
    "    [0, 1, 1, 1, 0],\n",
    "    [1, 0, 0, 0, 1],\n",
    "    [1, 0, 0, 0, 1],\n",
    "    [1, 0, 0, 0, 1],\n",
    "    [0, 1, 1, 1, 0]\n",
    "])\n",
    "\n",
    "letter_P = np.array([\n",
    "    [1, 1, 1, 1, 0],\n",
    "    [1, 0, 0, 0, 1],\n",
    "    [1, 1, 1, 1, 0],\n",
    "    [1, 0, 0, 0, 0],\n",
    "    [1, 0, 0, 0, 0]\n",
    "])\n",
    "\n",
    "letter_Q = np.array([\n",
    "    [0, 1, 1, 1, 0],\n",
    "    [1, 0, 0, 0, 1],\n",
    "    [1, 0, 0, 0, 1],\n",
    "    [1, 0, 0, 1, 0],\n",
    "    [0, 1, 1, 0, 1]\n",
    "])\n",
    "\n",
    "letter_R = np.array([\n",
    "    [1, 1, 1, 1, 0],\n",
    "    [1, 0, 0, 0, 1],\n",
    "    [1, 1, 1, 1, 0],\n",
    "    [1, 0, 1, 0, 0],\n",
    "    [1, 0, 0, 1, 0]\n",
    "])\n",
    "\n",
    "letter_S = np.array([\n",
    "    [1, 1, 1, 1, 1],\n",
    "    [1, 0, 0, 0, 0],\n",
    "    [0, 1, 1, 1, 0],\n",
    "    [0, 0, 0, 0, 1],\n",
    "    [1, 1, 1, 1, 1]\n",
    "])\n",
    "\n",
    "letter_T = np.array([\n",
    "    [1, 1, 1, 1, 1],\n",
    "    [0, 0, 1, 0, 0],\n",
    "    [0, 0, 1, 0, 0],\n",
    "    [0, 0, 1, 0, 0],\n",
    "    [0, 0, 1, 0, 0]\n",
    "])\n",
    "\n",
    "letter_U = np.array([\n",
    "    [1, 0, 0, 0, 1],\n",
    "    [1, 0, 0, 0, 1],\n",
    "    [1, 0, 0, 0, 1],\n",
    "    [1, 0, 0, 0, 1],\n",
    "    [1, 1, 1, 1, 1]\n",
    "])\n",
    "\n",
    "letter_V = np.array([\n",
    "    [1, 0, 0, 0, 1],\n",
    "    [1, 0, 0, 0, 1],\n",
    "    [1, 0, 0, 0, 1],\n",
    "    [0, 1, 0, 1, 1],\n",
    "    [0, 0, 1, 0, 0]\n",
    "])\n",
    "\n",
    "letter_W = np.array([\n",
    "    [1, 0, 0, 0, 1],\n",
    "    [1, 0, 0, 0, 1],\n",
    "    [1, 0, 1, 0, 1],\n",
    "    [1, 1, 0, 1, 1],\n",
    "    [1, 0, 0, 0, 1]\n",
    "])\n",
    "\n",
    "letter_X = np.array([\n",
    "    [1, 0, 0, 0, 1],\n",
    "    [0, 1, 0, 1, 0],\n",
    "    [0, 0, 1, 0, 0],\n",
    "    [0, 1, 0, 1, 0],\n",
    "    [1, 0, 0, 0, 1]\n",
    "])\n",
    "\n",
    "letter_Y = np.array([\n",
    "    [1, 0, 0, 0, 1],\n",
    "    [0, 1, 0, 1, 0],\n",
    "    [0, 0, 1, 0, 0],\n",
    "    [0, 0, 1, 0, 0],\n",
    "    [0, 0, 1, 0, 0]\n",
    "])\n",
    "\n",
    "letter_Z = np.array([\n",
    "    [1, 1, 1, 1, 1],\n",
    "    [0, 0, 0, 1, 0],\n",
    "    [0, 0, 1, 0, 0],\n",
    "    [0, 1, 0, 0, 0],\n",
    "    [1, 1, 1, 1, 1]\n",
    "])\n",
    "\n",
    "# 定义颜色映射\n",
    "cmap = mcolors.ListedColormap(['#FFFFFF', '#2B7BBA'])\n",
    "\n",
    "# 将字母矩阵存储到字典中\n",
    "letters = {\n",
    "    'A': letter_A,\n",
    "    'B': letter_B,\n",
    "    'C': letter_C,\n",
    "    'D': letter_D,\n",
    "    'E': letter_E,\n",
    "    'F': letter_F,\n",
    "    'G': letter_G,\n",
    "    'H': letter_H,\n",
    "    'I': letter_I,\n",
    "    'J': letter_J,\n",
    "    'K': letter_K,\n",
    "    'L': letter_L,\n",
    "    'M': letter_M,\n",
    "    'N': letter_N,\n",
    "    'O': letter_O,\n",
    "    'P': letter_P,\n",
    "    'Q': letter_Q,\n",
    "    'R': letter_R,\n",
    "    'S': letter_S,\n",
    "    'T': letter_T,\n",
    "    'U': letter_U,\n",
    "    'V': letter_V,\n",
    "    'W': letter_W,\n",
    "    'X': letter_X,\n",
    "    'Y': letter_Y,\n",
    "    'Z': letter_Z\n",
    "}\n",
    "\n",
    "# 绘制每个字母的热图\n",
    "for letter, matrix in letters.items():\n",
    "    fig, ax = plt.subplots(figsize=(3, 3))\n",
    "    ax.imshow(matrix, cmap=cmap, interpolation='nearest')\n",
    "\n",
    "    # 3.1 主刻度落在像素中心（不显示标签）\n",
    "    ax.set_xticks(np.arange(matrix.shape[1]))\n",
    "    ax.set_yticks(np.arange(matrix.shape[0]))\n",
    "    ax.set_xticklabels([])\n",
    "    ax.set_yticklabels([])\n",
    "\n",
    "    # 3.2 次刻度落在像素边界；用网格线描出单元格\n",
    "    ax.set_xticks(np.arange(-0.5, matrix.shape[1], 1), minor=True)\n",
    "    ax.set_yticks(np.arange(-0.5, matrix.shape[0], 1), minor=True)\n",
    "    ax.grid(which='minor', color='black', linestyle='-', linewidth=1)\n",
    "\n",
    "    # 3.3 去掉刻度线（tick marks）本身\n",
    "    ax.tick_params(which='both', bottom=False, left=False)\n",
    "\n",
    "    ax.set_title(f'Letter {letter}')\n",
    "    plt.tight_layout()\n",
    "    plt.show()\n"
   ],
   "id": "97b405d57ee2643f",
   "outputs": [
    {
     "data": {
      "text/plain": [
       "<Figure size 300x300 with 1 Axes>"
      ],
      "image/png": "[encoded data removed]"
     },
     "metadata": {},
     "output_type": "display_data"
    },
    {
     "data": {
      "text/plain": [
       "<Figure size 300x300 with 1 Axes>"
      ],
      "image/png": "[encoded data removed]"
     },
     "metadata": {},
     "output_type": "display_data"
    },
    {
     "data": {
      "text/plain": [
       "<Figure size 300x300 with 1 Axes>"
      ],
      "image/png": "[encoded data removed]"
     },
     "metadata": {},
     "output_type": "display_data"
    },
    {
     "data": {
      "text/plain": [
       "<Figure size 300x300 with 1 Axes>"
      ],
      "image/png": "[encoded data removed]"
     },
     "metadata": {},
     "output_type": "display_data"
    },
    {
     "data": {
      "text/plain": [
       "<Figure size 300x300 with 1 Axes>"
      ],
      "image/png": "[encoded data removed]"
     },
     "metadata": {},
     "output_type": "display_data"
    },
    {
     "data": {
      "text/plain": [
       "<Figure size 300x300 with 1 Axes>"
      ],
      "image/png": "[encoded data removed]"
     },
     "metadata": {},
     "output_type": "display_data"
    },
    {
     "data": {
      "text/plain": [
       "<Figure size 300x300 with 1 Axes>"
      ],
      "image/png": "[encoded data removed]"
     },
     "metadata": {},
     "output_type": "display_data"
    },
    {
     "data": {
      "text/plain": [
       "<Figure size 300x300 with 1 Axes>"
      ],
      "image/png": "[encoded data removed]"
     },
     "metadata": {},
     "output_type": "display_data"
    },
    {
     "data": {
      "text/plain": [
       "<Figure size 300x300 with 1 Axes>"
      ],
      "image/png": "[encoded data removed]"
     },
     "metadata": {},
     "output_type": "display_data"
    },
    {
     "data": {
      "text/plain": [
       "<Figure size 300x300 with 1 Axes>"
      ],
      "image/png": "[encoded data removed]"
     },
     "metadata": {},
     "output_type": "display_data"
    },
    {
     "data": {
      "text/plain": [
       "<Figure size 300x300 with 1 Axes>"
      ],
      "image/png": "[encoded data removed]"
     },
     "metadata": {},
     "output_type": "display_data"
    },
    {
     "data": {
      "text/plain": [
       "<Figure size 300x300 with 1 Axes>"
      ],
      "image/png": "[encoded data removed]"
     },
     "metadata": {},
     "output_type": "display_data"
    },
    {
     "data": {
      "text/plain": [
       "<Figure size 300x300 with 1 Axes>"
      ],
      "image/png": "[encoded data removed]"
     },
     "metadata": {},
     "output_type": "display_data"
    },
    {
     "data": {
      "text/plain": [
       "<Figure size 300x300 with 1 Axes>"
      ],
      "image/png": "[encoded data removed]"
     },
     "metadata": {},
     "output_type": "display_data"
    },
    {
     "data": {
      "text/plain": [
       "<Figure size 300x300 with 1 Axes>"
      ],
      "image/png": "[encoded data removed]"
     },
     "metadata": {},
     "output_type": "display_data"
    },
    {
     "data": {
      "text/plain": [
       "<Figure size 300x300 with 1 Axes>"
      ],
      "image/png": "[encoded data removed]"
     },
     "metadata": {},
     "output_type": "display_data"
    },
    {
     "data": {
      "text/plain": [
       "<Figure size 300x300 with 1 Axes>"
      ],
      "image/png": "[encoded data removed]"
     },
     "metadata": {},
     "output_type": "display_data"
    },
    {
     "data": {
      "text/plain": [
       "<Figure size 300x300 with 1 Axes>"
      ],
      "image/png": "[encoded data removed]"
     },
     "metadata": {},
     "output_type": "display_data"
    },
    {
     "data": {
      "text/plain": [
       "<Figure size 300x300 with 1 Axes>"
      ],
      "image/png": "[encoded data removed]"
     },
     "metadata": {},
     "output_type": "display_data"
    },
    {
     "data": {
      "text/plain": [
       "<Figure size 300x300 with 1 Axes>"
      ],
      "image/png": "[encoded data removed]"
     },
     "metadata": {},
     "output_type": "display_data"
    },
    {
     "data": {
      "text/plain": [
       "<Figure size 300x300 with 1 Axes>"
      ],
      "image/png": "[encoded data removed]"
     },
     "metadata": {},
     "output_type": "display_data"
    },
    {
     "data": {
      "text/plain": [
       "<Figure size 300x300 with 1 Axes>"
      ],
      "image/png": "[encoded data removed]"
     },
     "metadata": {},
     "output_type": "display_data"
    },
    {
     "data": {
      "text/plain": [
       "<Figure size 300x300 with 1 Axes>"
      ],
      "image/png": "[encoded data removed]"
     },
     "metadata": {},
     "output_type": "display_data"
    },
    {
     "data": {
      "text/plain": [
       "<Figure size 300x300 with 1 Axes>"
      ],
      "image/png": "[encoded data removed]"
     },
     "metadata": {},
     "output_type": "display_data"
    },
    {
     "data": {
      "text/plain": [
       "<Figure size 300x300 with 1 Axes>"
      ],
      "image/png": "[encoded data removed]"
     },
     "metadata": {},
     "output_type": "display_data"
    },
    {
     "data": {
      "text/plain": [
       "<Figure size 300x300 with 1 Axes>"
      ],
      "image/png": "[encoded data removed]"
     },
     "metadata": {},
     "output_type": "display_data"
    }
   ],
   "execution_count": 49
  },
  {
   "metadata": {},
   "cell_type": "code",
   "outputs": [],
   "execution_count": null,
   "source": "",
   "id": "3980215763b17487"
  },
  {
   "metadata": {},
   "cell_type": "markdown",
   "source": "# 对上述26个字母，每个字母的矩阵按行遍历，5每行拼接为 1 * 25的矩阵，转秩一下变成25 * 1的矩阵。26个字母的结果为 25 * 26 的矩阵，保存到csv文件中。",
   "id": "a5fcb128367ca242"
  },
  {
   "metadata": {
    "ExecuteTime": {
     "end_time": "2025-06-17T02:29:02.318412Z",
     "start_time": "2025-06-17T02:29:02.031009Z"
    }
   },
   "cell_type": "code",
   "source": [
    "import numpy as np\n",
    "import pandas as pd\n",
    "\n",
    "# 重新定义 26 个字母的 5x5 二值矩阵\n",
    "letter_A = np.array([[0,0,1,0,0],[0,1,0,1,0],[1,0,0,0,1],[1,1,1,1,1],[1,0,0,0,1]])\n",
    "letter_B = np.array([[1,1,1,1,0],[1,0,0,0,1],[1,1,1,1,0],[1,0,0,0,1],[1,1,1,1,0]])\n",
    "letter_C = np.array([[1,1,1,1,1],[1,0,0,0,0],[1,0,0,0,0],[1,0,0,0,0],[1,1,1,1,1]])\n",
    "letter_D = np.array([[1,1,1,1,0],[1,0,0,0,1],[1,0,0,0,1],[1,0,0,0,1],[1,1,1,1,0]])\n",
    "letter_E = np.array([[1,1,1,1,1],[1,0,0,0,0],[1,1,1,1,1],[1,0,0,0,0],[1,1,1,1,1]])\n",
    "letter_F = np.array([[1,1,1,1,1],[1,0,0,0,0],[1,1,1,1,1],[1,0,0,0,0],[1,0,0,0,0]])\n",
    "letter_G = np.array([[0,1,1,1,0],[1,0,0,0,0],[1,0,1,1,1],[1,0,0,0,1],[0,1,1,1,1]])\n",
    "letter_H = np.array([[1,0,0,0,1],[1,0,0,0,1],[1,1,1,1,1],[1,0,0,0,1],[1,0,0,0,1]])\n",
    "letter_I = np.array([[0,1,1,1,0],[0,0,1,0,0],[0,0,1,0,0],[0,0,1,0,0],[0,1,1,1,0]])\n",
    "letter_J = np.array([[0,1,1,1,0],[0,0,1,0,0],[0,0,1,0,0],[1,0,1,0,0],[1,1,1,0,0]])\n",
    "letter_K = np.array([[1,0,0,1,0],[1,0,1,0,0],[1,1,0,0,0],[1,0,1,0,0],[1,0,0,1,0]])\n",
    "letter_L = np.array([[0,1,0,0,0],[0,1,0,0,0],[0,1,0,0,0],[0,1,0,0,0],[0,1,1,1,1]])\n",
    "letter_M = np.array([[1,0,0,0,1],[1,1,0,1,1],[1,0,1,0,1],[1,0,0,0,1],[1,0,0,0,1]])\n",
    "letter_N = np.array([[1,0,0,0,1],[1,1,0,0,1],[1,0,1,0,1],[1,0,0,1,1],[1,0,0,0,1]])\n",
    "letter_O = np.array([[0,1,1,1,0],[1,0,0,0,1],[1,0,0,0,1],[1,0,0,0,1],[0,1,1,1,0]])\n",
    "letter_P = np.array([[1,1,1,1,0],[1,0,0,0,1],[1,1,1,1,0],[1,0,0,0,0],[1,0,0,0,0]])\n",
    "letter_Q = np.array([[0,1,1,1,0],[1,0,0,0,1],[1,0,0,0,1],[1,0,0,1,0],[0,1,1,0,1]])\n",
    "letter_R = np.array([[1,1,1,1,0],[1,0,0,0,1],[1,1,1,1,0],[1,0,1,0,0],[1,0,0,1,0]])\n",
    "letter_S = np.array([[1,1,1,1,1],[1,0,0,0,0],[0,1,1,1,0],[0,0,0,0,1],[1,1,1,1,1]])\n",
    "letter_T = np.array([[1,1,1,1,1],[0,0,1,0,0],[0,0,1,0,0],[0,0,1,0,0],[0,0,1,0,0]])\n",
    "letter_U = np.array([[1,0,0,0,1],[1,0,0,0,1],[1,0,0,0,1],[1,0,0,0,1],[1,1,1,1,1]])\n",
    "letter_V = np.array([[1,0,0,0,1],[1,0,0,0,1],[1,0,0,0,1],[0,1,0,1,1],[0,0,1,0,0]])\n",
    "letter_W = np.array([[1,0,0,0,1],[1,0,0,0,1],[1,0,1,0,1],[1,1,0,1,1],[1,0,0,0,1]])\n",
    "letter_X = np.array([[1,0,0,0,1],[0,1,0,1,0],[0,0,1,0,0],[0,1,0,1,0],[1,0,0,0,1]])\n",
    "letter_Y = np.array([[1,0,0,0,1],[0,1,0,1,0],[0,0,1,0,0],[0,0,1,0,0],[0,0,1,0,0]])\n",
    "letter_Z = np.array([[1,1,1,1,1],[0,0,0,1,0],[0,0,1,0,0],[0,1,0,0,0],[1,1,1,1,1]])\n",
    "\n",
    "# 构建字典\n",
    "letters = {\n",
    "    'A': letter_A, 'B': letter_B, 'C': letter_C, 'D': letter_D, 'E': letter_E,\n",
    "    'F': letter_F, 'G': letter_G, 'H': letter_H, 'I': letter_I, 'J': letter_J,\n",
    "    'K': letter_K, 'L': letter_L, 'M': letter_M, 'N': letter_N, 'O': letter_O,\n",
    "    'P': letter_P, 'Q': letter_Q, 'R': letter_R, 'S': letter_S, 'T': letter_T,\n",
    "    'U': letter_U, 'V': letter_V, 'W': letter_W, 'X': letter_X, 'Y': letter_Y,\n",
    "    'Z': letter_Z\n",
    "}\n",
    "\n",
    "# 扁平化每个 5×5 矩阵并堆叠成 25×26\n",
    "flat_vectors = [mat.flatten(order='C') for mat in letters.values()]\n",
    "data = np.stack(flat_vectors, axis=1)\n",
    "\n",
    "# 保存到 CSV 文件\n",
    "df = pd.DataFrame(data, columns=list(letters.keys()))\n",
    "df.to_csv('letters_25x26.csv', index=False)\n",
    "\n",
    "print(\"已生成并保存 letters_25x26.csv\")\n"
   ],
   "id": "7f59c7bb47447fe",
   "outputs": [
    {
     "name": "stdout",
     "output_type": "stream",
     "text": [
      "已生成并保存 letters_25x26.csv\n"
     ]
    }
   ],
   "execution_count": 1
  },
  {
   "metadata": {},
   "cell_type": "code",
   "outputs": [],
   "execution_count": null,
   "source": "",
   "id": "e5bd1e7f1615565c"
  },
  {
   "metadata": {},
   "cell_type": "markdown",
   "source": "# 将APPLE五个字母对应的5 * 5 矩阵，每个字母的矩阵按行遍历，5每行拼接为 1 * 25的矩阵，转秩一下变成25 * 1的矩阵。5个字母的结果为 25 * 5 的矩阵，保存到csv文件中。",
   "id": "be40989ee261f16a"
  },
  {
   "metadata": {
    "ExecuteTime": {
     "end_time": "2025-06-17T02:41:01.349425Z",
     "start_time": "2025-06-17T02:41:01.330262Z"
    }
   },
   "cell_type": "code",
   "source": [
    "import numpy as np\n",
    "import pandas as pd\n",
    "\n",
    "# 假设之前已定义好 letters 字典，包含 A–Z 的 5×5 二值矩阵\n",
    "# 仅需处理 APPLE 五个字母\n",
    "sequence = ['A', 'P', 'P', 'L', 'E']\n",
    "\n",
    "# 扁平化每个字母矩阵并堆叠成 25×5 矩阵\n",
    "flat_vectors = [letters[ch].flatten(order='C') for ch in sequence]\n",
    "data = np.column_stack(flat_vectors)  # 形状 (25, 5)\n",
    "\n",
    "# 转为 DataFrame，列名为 APPLE\n",
    "df = pd.DataFrame(data, columns=sequence)\n",
    "\n",
    "# 保存到 CSV\n",
    "df.to_csv('APPLE.csv', index=False)\n",
    "\n",
    "print(\"已生成并保存 APPLE.csv\")\n"
   ],
   "id": "f11dfd6c2e7ffcf8",
   "outputs": [
    {
     "name": "stdout",
     "output_type": "stream",
     "text": [
      "已生成并保存 APPLE.csv\n"
     ]
    }
   ],
   "execution_count": 2
  },
  {
   "metadata": {},
   "cell_type": "code",
   "outputs": [],
   "execution_count": null,
   "source": "",
   "id": "7b42fac8dbcb50f5"
  },
  {
   "metadata": {},
   "cell_type": "markdown",
   "source": "# 上述APPLE文件，每一行当做5个连续光脉冲，由给出的弛豫模型将25组5个连续光脉冲对应的输出电流曲线，并将最后一脉冲时间再过 1单位同脉冲间隔时刻对应的电流值保存为csv文件",
   "id": "4047e9d3922ef020"
  },
  {
   "metadata": {
    "ExecuteTime": {
     "end_time": "2025-06-17T07:22:37.444134Z",
     "start_time": "2025-06-17T07:22:37.436007Z"
    }
   },
   "cell_type": "code",
   "source": [
    "import numpy as np\n",
    "import pandas as pd\n",
    "import matplotlib.pyplot as plt\n",
    "\n",
    "# —— 固定器件参数 —— \n",
    "kappa = 8.9      # 单脉冲电流增量\n",
    "tau   = 1.704    # 弛豫时间常数\n",
    "beta  = 1        # 拉伸指数\n",
    "T     = 1        # 脉冲间隔 / 时间步长\n",
    "I0    = 1        # 静态基线电流\n",
    "\n",
    "# —— 1. 读取 25 组脉冲模式 —— \n",
    "df = pd.read_csv('APPLE.csv',            # 文件名\n",
    "                 sep=r'[\\s,]+',          # 逗号或任意空白字符都算分隔符\n",
    "                 engine='python',        # 让 pandas 使用正则分隔\n",
    "                 header=0)               # 第一行是列名 A P P L E\n",
    "patterns = df.astype(int).astype(str).agg(''.join, axis=1).tolist()\n",
    "\n",
    "currents = []                       # 保存每行所需电流\n",
    "for pat in patterns:\n",
    "    pulse_times = [i+1 for i,c in enumerate(pat) if c == '1']    # 第 i+1 步有脉冲\n",
    "    if not pulse_times:                # 全 0 行：电流恒为 I0\n",
    "        currents.append(I0)\n",
    "        continue\n",
    "\n",
    "    t_last   = pulse_times[-1]         # 最后一个脉冲的步号\n",
    "    t_eval   = t_last + 1              # 再过一个 T 的时刻\n",
    "    # 计算电流（只需要一个数，不必生成整条曲线）\n",
    "    delta_I  = np.sum(kappa * np.exp(-(((t_eval - np.array(pulse_times))*T) / tau) ** beta))\n",
    "    currents.append(I0 + delta_I)\n",
    "\n",
    "    # --------- 若要画完整曲线，取消下面两行注释 ----------\n",
    "    # t  = np.linspace(0, t_last+5, 2879)\n",
    "    # plt.plot(t, I0 + np.sum(kappa*np.exp(-(((t[:,None]-pulse_times)*T)/tau)**beta)*(t[:,None]>=pulse_times), axis=1))\n",
    "# -----------------------------------------------------------\n",
    "\n",
    "# —— 2. 保存结果 —— \n",
    "out_df = pd.DataFrame({'pattern': patterns, 'I_DS(t_last+1)': currents})\n",
    "out_df.to_csv('APPLE_current.csv', index=False)\n",
    "print('已写入 APPLE_current.csv')\n"
   ],
   "id": "4704dd52ef67b966",
   "outputs": [
    {
     "name": "stdout",
     "output_type": "stream",
     "text": [
      "已写入 APPLE_current.csv\n"
     ]
    }
   ],
   "execution_count": 4
  },
  {
   "metadata": {},
   "cell_type": "code",
   "outputs": [],
   "execution_count": null,
   "source": "",
   "id": "18422a0cb165b3d1"
  },
  {
   "metadata": {
    "ExecuteTime": {
     "end_time": "2025-06-18T07:21:18.028610Z",
     "start_time": "2025-06-18T07:21:17.384410Z"
    }
   },
   "cell_type": "code",
   "source": [
    "import pandas as pd\n",
    "import numpy as np\n",
    "import matplotlib.pyplot as plt\n",
    "import matplotlib.colors as mcolors\n",
    "from mpl_toolkits.axes_grid1.inset_locator import inset_axes\n",
    "\n",
    "# —— 读取 APPLE_current.csv 中的电流列 ——\n",
    "try:\n",
    "    df = pd.read_csv('APPLE_current.csv')\n",
    "    values = df['I_DS(t_last+1)'].astype(float).values\n",
    "except (FileNotFoundError, KeyError):\n",
    "    # 演示环境无文件时用随机数据占位\n",
    "    values = np.linspace(0.5, 9.5, 20)\n",
    "\n",
    "# —— 构造 n×1 的热图矩阵 ——\n",
    "heat_data = values.reshape(len(values), 1)        # n 行 1 列\n",
    "\n",
    "# —— 自定义配色 ——\n",
    "cmap = mcolors.LinearSegmentedColormap.from_list(\n",
    "    'custom_blues', ['#ABCBE4', '#6BA3CF', '#2B7BBA']\n",
    ")\n",
    "\n",
    "# —— 计算合适的 figsize（保证正方形） ——\n",
    "cell_side = 0.6              # 每个格子的边长（inch）可自行调\n",
    "fig_w = cell_side            # 1 列 ⇒ 图宽 = 1 × cell_side\n",
    "fig_h = cell_side * len(values)   # 图高 = 行数 × cell_side\n",
    "\n",
    "fig, ax = plt.subplots(figsize=(fig_w, fig_h))\n",
    "\n",
    "# —— 绘制热图 —— \n",
    "im = ax.imshow(heat_data, cmap=cmap, aspect='equal', interpolation='nearest')\n",
    "\n",
    "# ———— 1. 添加横竖网格线 ———— #\n",
    "# 主刻度：像素中心（不显示标签）\n",
    "ax.set_xticks(np.arange(heat_data.shape[1]))\n",
    "ax.set_yticks(np.arange(heat_data.shape[0]))\n",
    "ax.set_xticklabels([])\n",
    "ax.set_yticklabels([])\n",
    "\n",
    "# 次刻度：像素边界\n",
    "ax.set_xticks(np.arange(-0.5, heat_data.shape[1], 1), minor=True)\n",
    "ax.set_yticks(np.arange(-0.5, heat_data.shape[0], 1), minor=True)\n",
    "# 绘制网格\n",
    "ax.grid(which='minor', color='black', linestyle='-', linewidth=1)\n",
    "\n",
    "# 去掉刻度线\n",
    "ax.tick_params(which='both', bottom=False, left=False)\n",
    "\n",
    "# ———— 2. 在方格里写值（可选） ———— #\n",
    "for i, val in enumerate(values):\n",
    "    text = f\"{val:.1f}\"\n",
    "    ax.text(0, i, text,\n",
    "            ha='center', va='center',\n",
    "            color='white' if val < (values.max()+values.min())/2 else 'black',\n",
    "            fontsize=7)\n",
    "\n",
    "# ———— 3. 右侧色条 ———— #\n",
    "cax = inset_axes(ax,\n",
    "                 width=\"25%\", height=\"25%\",\n",
    "                 loc='lower left',\n",
    "                 bbox_to_anchor=(1.5, 0, 1.2, 1),\n",
    "                 bbox_transform=ax.transAxes,\n",
    "                 borderpad=0)\n",
    "plt.colorbar(im, cax=cax, orientation='vertical')\n",
    "\n",
    "plt.tight_layout()\n",
    "plt.show()\n"
   ],
   "id": "f61ed1bdf86e880e",
   "outputs": [
    {
     "name": "stderr",
     "output_type": "stream",
     "text": [
      "C:\\Users\\19108\\AppData\\Local\\Temp\\ipykernel_22348\\2447012449.py:66: UserWarning: This figure includes Axes that are not compatible with tight_layout, so results might be incorrect.\n",
      "  plt.tight_layout()\n"
     ]
    },
    {
     "data": {
      "text/plain": [
       "<Figure size 60x1500 with 2 Axes>"
      ],
      "image/png": "[encoded data removed]"
     },
     "metadata": {},
     "output_type": "display_data"
    }
   ],
   "execution_count": 1
  },
  {
   "metadata": {},
   "cell_type": "code",
   "outputs": [],
   "execution_count": null,
   "source": "",
   "id": "200dd1e6180be64f"
  }
 ],
 "metadata": {
  "kernelspec": {
   "display_name": "Python 3",
   "language": "python",
   "name": "python3"
  },
  "language_info": {
   "codemirror_mode": {
    "name": "ipython",
    "version": 2
   },
   "file_extension": ".py",
   "mimetype": "text/x-python",
   "name": "python",
   "nbconvert_exporter": "python",
   "pygments_lexer": "ipython2",
   "version": "2.7.6"
  }
 },
 "nbformat": 4,
 "nbformat_minor": 5
}
