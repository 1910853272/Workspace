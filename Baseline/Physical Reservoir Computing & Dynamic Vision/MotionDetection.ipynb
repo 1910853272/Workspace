{
 "cells": [
  {
   "cell_type": "code",
   "execution_count": null,
   "id": "initial_id",
   "metadata": {
    "collapsed": true
   },
   "outputs": [],
   "source": ""
  },
  {
   "metadata": {},
   "cell_type": "code",
   "outputs": [],
   "execution_count": null,
   "source": [
    "import cv2\n",
    "import numpy as np\n",
    "\n",
    "cap = cv2.VideoCapture('images/kk 2022-01-23 18-21-21.mp4')  # 来自vedio视频的\n",
    "\n",
    "kernel1 = cv2.getStructuringElement(cv2.MORPH_ELLIPSE, (5, 5))\n",
    "mog = cv2.createBackgroundSubtractorMOG2()  # 创建混合高斯模型来用于北京建模\n",
    "\n",
    "while (1):\n",
    "    # 获取每一帧\n",
    "    ret, frame = cap.read()\n",
    "    if frame is None:\n",
    "        print(\"camera is over...\")\n",
    "        break\n",
    "\n",
    "    fmask = mog.apply(frame)  # 判断哪些是前景和背景\n",
    "\n",
    "    MORPH_OPEN_1 = cv2.morphologyEx(fmask, cv2.MORPH_OPEN, kernel1)  # 开运算，去除噪声和毛刺\n",
    "\n",
    "    contours, _ = cv2.findContours(fmask, cv2.RETR_EXTERNAL, cv2.CHAIN_APPROX_SIMPLE)  # 只检测外边框\n",
    "\n",
    "    for cont in contours:\n",
    "        # 计算各个轮廓的面积\n",
    "        len = cv2.arcLength(cont, True)\n",
    "        if len > 300:  # 去除一些小的噪声点\n",
    "            # 找到一个轮廓\n",
    "            x,y,w,h = cv2.boundingRect(cont)\n",
    "            # 画出这个矩形\n",
    "            cv2.rectangle(frame, (x,y), (x+w, y+h), color=(0,255,0), thickness=3)\n",
    "\n",
    "    # 画出所有的轮廓\n",
    "    cv2.imshow('frame', frame)\n",
    "    cv2.imshow('fmask', fmask)\n",
    "\n",
    "    # 进行等待或者退出判断\n",
    "    if cv2.waitKey(24) & 0xFF == 27:\n",
    "        break\n",
    "\n",
    "cap.release()\n",
    "cv2.destroyAllWindows()\n"
   ],
   "id": "a09ae685cf369bc0"
  },
  {
   "metadata": {},
   "cell_type": "code",
   "outputs": [],
   "execution_count": null,
   "source": "",
   "id": "abfc6cdda73240f0"
  }
 ],
 "metadata": {
  "kernelspec": {
   "display_name": "Python 3",
   "language": "python",
   "name": "python3"
  },
  "language_info": {
   "codemirror_mode": {
    "name": "ipython",
    "version": 2
   },
   "file_extension": ".py",
   "mimetype": "text/x-python",
   "name": "python",
   "nbconvert_exporter": "python",
   "pygments_lexer": "ipython2",
   "version": "2.7.6"
  }
 },
 "nbformat": 4,
 "nbformat_minor": 5
}
